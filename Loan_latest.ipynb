{
 "cells": [
  {
   "cell_type": "markdown",
   "id": "1ca9b9e2",
   "metadata": {},
   "source": [
    "# Final Project: Loan Approval Prediction\n",
    "\n",
    "## Foundation of Machine Learning\n",
    "## Group 7\n",
    "\n",
    "## Group Members\n",
    "\n",
    "## Varun Biren Majithia (Student ID - 8894799)\n",
    "## Rohit Kumar (Student ID - 8895806)"
   ]
  },
  {
   "cell_type": "code",
   "execution_count": 1,
   "id": "29e72d57",
   "metadata": {},
   "outputs": [],
   "source": [
    "import warnings\n",
    "warnings.filterwarnings('ignore')\n",
    "import pandas as pd\n",
    "import numpy as np\n",
    "from imblearn.over_sampling import SMOTE\n",
    "import matplotlib.pyplot as plt\n",
    "import seaborn as sns\n",
    "from sklearn.linear_model import LogisticRegression\n",
    "from sklearn.model_selection import cross_val_score\n",
    "from sklearn.model_selection import train_test_split\n",
    "from sklearn.metrics import roc_curve,precision_recall_curve,precision_score,accuracy_score,confusion_matrix,f1_score,recall_score\n",
    "import pandas as pd\n",
    "from sklearn.feature_selection import RFE\n",
    "from sklearn.ensemble import RandomForestClassifier, GradientBoostingClassifier\n",
    "from sklearn.model_selection import GridSearchCV\n",
    "from sklearn.preprocessing import StandardScaler\n",
    "from keras.models import Sequential\n",
    "from keras.layers import Dense\n",
    "from sklearn.tree import DecisionTreeClassifier"
   ]
  },
  {
   "cell_type": "markdown",
   "id": "a197b99b",
   "metadata": {},
   "source": [
    "# Loading the dataset to the python environment"
   ]
  },
  {
   "cell_type": "code",
   "execution_count": 2,
   "id": "ed0a269e",
   "metadata": {},
   "outputs": [],
   "source": [
    "df = pd.read_csv(\"loan_approval_dataset.csv\")"
   ]
  },
  {
   "cell_type": "code",
   "execution_count": 3,
   "id": "d54f969b",
   "metadata": {},
   "outputs": [],
   "source": [
    "df.columns = [col.strip() for col in df.columns]"
   ]
  },
  {
   "cell_type": "code",
   "execution_count": 4,
   "id": "2d1278a7",
   "metadata": {},
   "outputs": [
    {
     "data": {
      "application/vnd.microsoft.datawrangler.viewer.v0+json": {
       "columns": [
        {
         "name": "index",
         "rawType": "int64",
         "type": "integer"
        },
        {
         "name": "loan_id",
         "rawType": "int64",
         "type": "integer"
        },
        {
         "name": "no_of_dependents",
         "rawType": "int64",
         "type": "integer"
        },
        {
         "name": "education",
         "rawType": "object",
         "type": "string"
        },
        {
         "name": "self_employed",
         "rawType": "object",
         "type": "string"
        },
        {
         "name": "income_annum",
         "rawType": "int64",
         "type": "integer"
        },
        {
         "name": "loan_amount",
         "rawType": "int64",
         "type": "integer"
        },
        {
         "name": "loan_term",
         "rawType": "int64",
         "type": "integer"
        },
        {
         "name": "cibil_score",
         "rawType": "int64",
         "type": "integer"
        },
        {
         "name": "residential_assets_value",
         "rawType": "int64",
         "type": "integer"
        },
        {
         "name": "commercial_assets_value",
         "rawType": "int64",
         "type": "integer"
        },
        {
         "name": "luxury_assets_value",
         "rawType": "int64",
         "type": "integer"
        },
        {
         "name": "bank_asset_value",
         "rawType": "int64",
         "type": "integer"
        },
        {
         "name": "loan_status",
         "rawType": "object",
         "type": "string"
        }
       ],
       "conversionMethod": "pd.DataFrame",
       "ref": "7a231fd1-546f-4685-8f38-fb43598d42b5",
       "rows": [
        [
         "0",
         "1",
         "2",
         " Graduate",
         " No",
         "9600000",
         "29900000",
         "12",
         "778",
         "2400000",
         "17600000",
         "22700000",
         "8000000",
         " Approved"
        ],
        [
         "1",
         "2",
         "0",
         " Not Graduate",
         " Yes",
         "4100000",
         "12200000",
         "8",
         "417",
         "2700000",
         "2200000",
         "8800000",
         "3300000",
         " Rejected"
        ],
        [
         "2",
         "3",
         "3",
         " Graduate",
         " No",
         "9100000",
         "29700000",
         "20",
         "506",
         "7100000",
         "4500000",
         "33300000",
         "12800000",
         " Rejected"
        ],
        [
         "3",
         "4",
         "3",
         " Graduate",
         " No",
         "8200000",
         "30700000",
         "8",
         "467",
         "18200000",
         "3300000",
         "23300000",
         "7900000",
         " Rejected"
        ],
        [
         "4",
         "5",
         "5",
         " Not Graduate",
         " Yes",
         "9800000",
         "24200000",
         "20",
         "382",
         "12400000",
         "8200000",
         "29400000",
         "5000000",
         " Rejected"
        ]
       ],
       "shape": {
        "columns": 13,
        "rows": 5
       }
      },
      "text/html": [
       "<div>\n",
       "<style scoped>\n",
       "    .dataframe tbody tr th:only-of-type {\n",
       "        vertical-align: middle;\n",
       "    }\n",
       "\n",
       "    .dataframe tbody tr th {\n",
       "        vertical-align: top;\n",
       "    }\n",
       "\n",
       "    .dataframe thead th {\n",
       "        text-align: right;\n",
       "    }\n",
       "</style>\n",
       "<table border=\"1\" class=\"dataframe\">\n",
       "  <thead>\n",
       "    <tr style=\"text-align: right;\">\n",
       "      <th></th>\n",
       "      <th>loan_id</th>\n",
       "      <th>no_of_dependents</th>\n",
       "      <th>education</th>\n",
       "      <th>self_employed</th>\n",
       "      <th>income_annum</th>\n",
       "      <th>loan_amount</th>\n",
       "      <th>loan_term</th>\n",
       "      <th>cibil_score</th>\n",
       "      <th>residential_assets_value</th>\n",
       "      <th>commercial_assets_value</th>\n",
       "      <th>luxury_assets_value</th>\n",
       "      <th>bank_asset_value</th>\n",
       "      <th>loan_status</th>\n",
       "    </tr>\n",
       "  </thead>\n",
       "  <tbody>\n",
       "    <tr>\n",
       "      <th>0</th>\n",
       "      <td>1</td>\n",
       "      <td>2</td>\n",
       "      <td>Graduate</td>\n",
       "      <td>No</td>\n",
       "      <td>9600000</td>\n",
       "      <td>29900000</td>\n",
       "      <td>12</td>\n",
       "      <td>778</td>\n",
       "      <td>2400000</td>\n",
       "      <td>17600000</td>\n",
       "      <td>22700000</td>\n",
       "      <td>8000000</td>\n",
       "      <td>Approved</td>\n",
       "    </tr>\n",
       "    <tr>\n",
       "      <th>1</th>\n",
       "      <td>2</td>\n",
       "      <td>0</td>\n",
       "      <td>Not Graduate</td>\n",
       "      <td>Yes</td>\n",
       "      <td>4100000</td>\n",
       "      <td>12200000</td>\n",
       "      <td>8</td>\n",
       "      <td>417</td>\n",
       "      <td>2700000</td>\n",
       "      <td>2200000</td>\n",
       "      <td>8800000</td>\n",
       "      <td>3300000</td>\n",
       "      <td>Rejected</td>\n",
       "    </tr>\n",
       "    <tr>\n",
       "      <th>2</th>\n",
       "      <td>3</td>\n",
       "      <td>3</td>\n",
       "      <td>Graduate</td>\n",
       "      <td>No</td>\n",
       "      <td>9100000</td>\n",
       "      <td>29700000</td>\n",
       "      <td>20</td>\n",
       "      <td>506</td>\n",
       "      <td>7100000</td>\n",
       "      <td>4500000</td>\n",
       "      <td>33300000</td>\n",
       "      <td>12800000</td>\n",
       "      <td>Rejected</td>\n",
       "    </tr>\n",
       "    <tr>\n",
       "      <th>3</th>\n",
       "      <td>4</td>\n",
       "      <td>3</td>\n",
       "      <td>Graduate</td>\n",
       "      <td>No</td>\n",
       "      <td>8200000</td>\n",
       "      <td>30700000</td>\n",
       "      <td>8</td>\n",
       "      <td>467</td>\n",
       "      <td>18200000</td>\n",
       "      <td>3300000</td>\n",
       "      <td>23300000</td>\n",
       "      <td>7900000</td>\n",
       "      <td>Rejected</td>\n",
       "    </tr>\n",
       "    <tr>\n",
       "      <th>4</th>\n",
       "      <td>5</td>\n",
       "      <td>5</td>\n",
       "      <td>Not Graduate</td>\n",
       "      <td>Yes</td>\n",
       "      <td>9800000</td>\n",
       "      <td>24200000</td>\n",
       "      <td>20</td>\n",
       "      <td>382</td>\n",
       "      <td>12400000</td>\n",
       "      <td>8200000</td>\n",
       "      <td>29400000</td>\n",
       "      <td>5000000</td>\n",
       "      <td>Rejected</td>\n",
       "    </tr>\n",
       "  </tbody>\n",
       "</table>\n",
       "</div>"
      ],
      "text/plain": [
       "   loan_id  no_of_dependents      education self_employed  income_annum  \\\n",
       "0        1                 2       Graduate            No       9600000   \n",
       "1        2                 0   Not Graduate           Yes       4100000   \n",
       "2        3                 3       Graduate            No       9100000   \n",
       "3        4                 3       Graduate            No       8200000   \n",
       "4        5                 5   Not Graduate           Yes       9800000   \n",
       "\n",
       "   loan_amount  loan_term  cibil_score  residential_assets_value  \\\n",
       "0     29900000         12          778                   2400000   \n",
       "1     12200000          8          417                   2700000   \n",
       "2     29700000         20          506                   7100000   \n",
       "3     30700000          8          467                  18200000   \n",
       "4     24200000         20          382                  12400000   \n",
       "\n",
       "   commercial_assets_value  luxury_assets_value  bank_asset_value loan_status  \n",
       "0                 17600000             22700000           8000000    Approved  \n",
       "1                  2200000              8800000           3300000    Rejected  \n",
       "2                  4500000             33300000          12800000    Rejected  \n",
       "3                  3300000             23300000           7900000    Rejected  \n",
       "4                  8200000             29400000           5000000    Rejected  "
      ]
     },
     "execution_count": 4,
     "metadata": {},
     "output_type": "execute_result"
    }
   ],
   "source": [
    "df.head()"
   ]
  },
  {
   "cell_type": "code",
   "execution_count": 5,
   "id": "15b62573",
   "metadata": {},
   "outputs": [
    {
     "data": {
      "text/plain": [
       "Index(['loan_id', 'no_of_dependents', 'education', 'self_employed',\n",
       "       'income_annum', 'loan_amount', 'loan_term', 'cibil_score',\n",
       "       'residential_assets_value', 'commercial_assets_value',\n",
       "       'luxury_assets_value', 'bank_asset_value', 'loan_status'],\n",
       "      dtype='object')"
      ]
     },
     "execution_count": 5,
     "metadata": {},
     "output_type": "execute_result"
    }
   ],
   "source": [
    "df.columns"
   ]
  },
  {
   "cell_type": "code",
   "execution_count": 6,
   "id": "a0ea6f99",
   "metadata": {},
   "outputs": [
    {
     "data": {
      "application/vnd.microsoft.datawrangler.viewer.v0+json": {
       "columns": [
        {
         "name": "index",
         "rawType": "int64",
         "type": "integer"
        },
        {
         "name": "loan_id",
         "rawType": "int64",
         "type": "integer"
        },
        {
         "name": "no_of_dependents",
         "rawType": "int64",
         "type": "integer"
        },
        {
         "name": "education",
         "rawType": "object",
         "type": "string"
        },
        {
         "name": "self_employed",
         "rawType": "object",
         "type": "string"
        },
        {
         "name": "income_annum",
         "rawType": "int64",
         "type": "integer"
        },
        {
         "name": "loan_amount",
         "rawType": "int64",
         "type": "integer"
        },
        {
         "name": "loan_term",
         "rawType": "int64",
         "type": "integer"
        },
        {
         "name": "cibil_score",
         "rawType": "int64",
         "type": "integer"
        },
        {
         "name": "residential_assets_value",
         "rawType": "int64",
         "type": "integer"
        },
        {
         "name": "commercial_assets_value",
         "rawType": "int64",
         "type": "integer"
        },
        {
         "name": "luxury_assets_value",
         "rawType": "int64",
         "type": "integer"
        },
        {
         "name": "bank_asset_value",
         "rawType": "int64",
         "type": "integer"
        },
        {
         "name": "loan_status",
         "rawType": "object",
         "type": "string"
        }
       ],
       "conversionMethod": "pd.DataFrame",
       "ref": "5c139c33-4f52-4b43-b8bf-fde8d8c902c2",
       "rows": [
        [
         "0",
         "1",
         "2",
         " Graduate",
         " No",
         "9600000",
         "29900000",
         "12",
         "778",
         "2400000",
         "17600000",
         "22700000",
         "8000000",
         " Approved"
        ],
        [
         "1",
         "2",
         "0",
         " Not Graduate",
         " Yes",
         "4100000",
         "12200000",
         "8",
         "417",
         "2700000",
         "2200000",
         "8800000",
         "3300000",
         " Rejected"
        ],
        [
         "2",
         "3",
         "3",
         " Graduate",
         " No",
         "9100000",
         "29700000",
         "20",
         "506",
         "7100000",
         "4500000",
         "33300000",
         "12800000",
         " Rejected"
        ],
        [
         "3",
         "4",
         "3",
         " Graduate",
         " No",
         "8200000",
         "30700000",
         "8",
         "467",
         "18200000",
         "3300000",
         "23300000",
         "7900000",
         " Rejected"
        ],
        [
         "4",
         "5",
         "5",
         " Not Graduate",
         " Yes",
         "9800000",
         "24200000",
         "20",
         "382",
         "12400000",
         "8200000",
         "29400000",
         "5000000",
         " Rejected"
        ],
        [
         "5",
         "6",
         "0",
         " Graduate",
         " Yes",
         "4800000",
         "13500000",
         "10",
         "319",
         "6800000",
         "8300000",
         "13700000",
         "5100000",
         " Rejected"
        ],
        [
         "6",
         "7",
         "5",
         " Graduate",
         " No",
         "8700000",
         "33000000",
         "4",
         "678",
         "22500000",
         "14800000",
         "29200000",
         "4300000",
         " Approved"
        ],
        [
         "7",
         "8",
         "2",
         " Graduate",
         " Yes",
         "5700000",
         "15000000",
         "20",
         "382",
         "13200000",
         "5700000",
         "11800000",
         "6000000",
         " Rejected"
        ],
        [
         "8",
         "9",
         "0",
         " Graduate",
         " Yes",
         "800000",
         "2200000",
         "20",
         "782",
         "1300000",
         "800000",
         "2800000",
         "600000",
         " Approved"
        ],
        [
         "9",
         "10",
         "5",
         " Not Graduate",
         " No",
         "1100000",
         "4300000",
         "10",
         "388",
         "3200000",
         "1400000",
         "3300000",
         "1600000",
         " Rejected"
        ],
        [
         "10",
         "11",
         "4",
         " Graduate",
         " Yes",
         "2900000",
         "11200000",
         "2",
         "547",
         "8100000",
         "4700000",
         "9500000",
         "3100000",
         " Approved"
        ],
        [
         "11",
         "12",
         "2",
         " Not Graduate",
         " Yes",
         "6700000",
         "22700000",
         "18",
         "538",
         "15300000",
         "5800000",
         "20400000",
         "6400000",
         " Rejected"
        ],
        [
         "12",
         "13",
         "3",
         " Not Graduate",
         " Yes",
         "5000000",
         "11600000",
         "16",
         "311",
         "6400000",
         "9600000",
         "14600000",
         "4300000",
         " Rejected"
        ],
        [
         "13",
         "14",
         "2",
         " Graduate",
         " Yes",
         "9100000",
         "31500000",
         "14",
         "679",
         "10800000",
         "16600000",
         "20900000",
         "5000000",
         " Approved"
        ],
        [
         "14",
         "15",
         "1",
         " Not Graduate",
         " No",
         "1900000",
         "7400000",
         "6",
         "469",
         "1900000",
         "1200000",
         "5900000",
         "1900000",
         " Rejected"
        ],
        [
         "15",
         "16",
         "5",
         " Not Graduate",
         " No",
         "4700000",
         "10700000",
         "10",
         "794",
         "5700000",
         "3900000",
         "16400000",
         "4400000",
         " Approved"
        ],
        [
         "16",
         "17",
         "2",
         " Graduate",
         " Yes",
         "500000",
         "1600000",
         "4",
         "663",
         "1300000",
         "100000",
         "1300000",
         "700000",
         " Approved"
        ],
        [
         "17",
         "18",
         "4",
         " Not Graduate",
         " Yes",
         "2900000",
         "9400000",
         "14",
         "780",
         "2900000",
         "2800000",
         "6700000",
         "4300000",
         " Approved"
        ],
        [
         "18",
         "19",
         "2",
         " Graduate",
         " No",
         "2700000",
         "10300000",
         "10",
         "736",
         "1000000",
         "0",
         "6200000",
         "3300000",
         " Approved"
        ],
        [
         "19",
         "20",
         "5",
         " Graduate",
         " No",
         "6300000",
         "14600000",
         "12",
         "652",
         "10300000",
         "3500000",
         "23500000",
         "5900000",
         " Approved"
        ],
        [
         "20",
         "21",
         "2",
         " Graduate",
         " No",
         "5000000",
         "19400000",
         "12",
         "315",
         "9500000",
         "1600000",
         "18000000",
         "6100000",
         " Rejected"
        ],
        [
         "21",
         "22",
         "4",
         " Graduate",
         " No",
         "5800000",
         "14000000",
         "16",
         "530",
         "3800000",
         "11300000",
         "22200000",
         "5400000",
         " Rejected"
        ],
        [
         "22",
         "23",
         "4",
         " Graduate",
         " Yes",
         "6500000",
         "25700000",
         "18",
         "311",
         "13100000",
         "1700000",
         "19500000",
         "8500000",
         " Rejected"
        ],
        [
         "23",
         "24",
         "0",
         " Not Graduate",
         " Yes",
         "500000",
         "1400000",
         "2",
         "551",
         "900000",
         "600000",
         "1100000",
         "300000",
         " Approved"
        ],
        [
         "24",
         "25",
         "0",
         " Not Graduate",
         " No",
         "4900000",
         "9800000",
         "16",
         "324",
         "3800000",
         "8700000",
         "10000000",
         "3300000",
         " Rejected"
        ],
        [
         "25",
         "26",
         "5",
         " Not Graduate",
         " No",
         "3100000",
         "9500000",
         "20",
         "514",
         "7900000",
         "3100000",
         "6600000",
         "2600000",
         " Rejected"
        ],
        [
         "26",
         "27",
         "4",
         " Graduate",
         " No",
         "8200000",
         "28100000",
         "12",
         "696",
         "11500000",
         "10600000",
         "25300000",
         "7200000",
         " Approved"
        ],
        [
         "27",
         "28",
         "4",
         " Not Graduate",
         " Yes",
         "2400000",
         "5600000",
         "4",
         "662",
         "4500000",
         "4200000",
         "5400000",
         "2500000",
         " Approved"
        ],
        [
         "28",
         "29",
         "5",
         " Not Graduate",
         " Yes",
         "7000000",
         "24000000",
         "6",
         "336",
         "2300000",
         "11900000",
         "27500000",
         "9700000",
         " Rejected"
        ],
        [
         "29",
         "30",
         "3",
         " Not Graduate",
         " Yes",
         "9000000",
         "31500000",
         "10",
         "850",
         "21800000",
         "12400000",
         "33700000",
         "8000000",
         " Approved"
        ],
        [
         "30",
         "31",
         "2",
         " Not Graduate",
         " No",
         "9800000",
         "25300000",
         "12",
         "313",
         "20200000",
         "5200000",
         "25500000",
         "9300000",
         " Rejected"
        ],
        [
         "31",
         "32",
         "2",
         " Graduate",
         " No",
         "5700000",
         "12000000",
         "6",
         "363",
         "3600000",
         "7400000",
         "21700000",
         "4300000",
         " Rejected"
        ],
        [
         "32",
         "33",
         "1",
         " Not Graduate",
         " Yes",
         "800000",
         "1600000",
         "10",
         "436",
         "700000",
         "200000",
         "2200000",
         "1000000",
         " Rejected"
        ],
        [
         "33",
         "34",
         "5",
         " Not Graduate",
         " Yes",
         "8400000",
         "22000000",
         "2",
         "830",
         "3800000",
         "3900000",
         "19900000",
         "5400000",
         " Approved"
        ],
        [
         "34",
         "35",
         "3",
         " Graduate",
         " No",
         "4900000",
         "11900000",
         "8",
         "612",
         "9700000",
         "1200000",
         "19000000",
         "5800000",
         " Approved"
        ],
        [
         "35",
         "36",
         "2",
         " Graduate",
         " Yes",
         "1700000",
         "3400000",
         "8",
         "691",
         "2700000",
         "2800000",
         "6000000",
         "900000",
         " Approved"
        ],
        [
         "36",
         "37",
         "3",
         " Not Graduate",
         " No",
         "1600000",
         "6200000",
         "18",
         "636",
         "3400000",
         "700000",
         "5300000",
         "1400000",
         " Approved"
        ],
        [
         "37",
         "38",
         "5",
         " Graduate",
         " Yes",
         "8000000",
         "27200000",
         "6",
         "348",
         "6400000",
         "300000",
         "16700000",
         "7100000",
         " Rejected"
        ],
        [
         "38",
         "39",
         "5",
         " Graduate",
         " No",
         "3600000",
         "7700000",
         "16",
         "830",
         "7000000",
         "1300000",
         "10000000",
         "2900000",
         " Approved"
        ],
        [
         "39",
         "40",
         "3",
         " Not Graduate",
         " Yes",
         "1500000",
         "5100000",
         "6",
         "352",
         "100000",
         "200000",
         "5600000",
         "900000",
         " Rejected"
        ],
        [
         "40",
         "41",
         "1",
         " Graduate",
         " No",
         "7800000",
         "18100000",
         "2",
         "712",
         "8600000",
         "11200000",
         "21700000",
         "9000000",
         " Approved"
        ],
        [
         "41",
         "42",
         "2",
         " Not Graduate",
         " No",
         "9100000",
         "24900000",
         "16",
         "822",
         "22300000",
         "12100000",
         "31000000",
         "5200000",
         " Approved"
        ],
        [
         "42",
         "43",
         "3",
         " Graduate",
         " No",
         "1400000",
         "3400000",
         "6",
         "540",
         "200000",
         "1500000",
         "3900000",
         "800000",
         " Rejected"
        ],
        [
         "43",
         "44",
         "2",
         " Graduate",
         " Yes",
         "800000",
         "2300000",
         "12",
         "342",
         "2200000",
         "1300000",
         "1800000",
         "800000",
         " Rejected"
        ],
        [
         "44",
         "45",
         "5",
         " Graduate",
         " No",
         "6500000",
         "13400000",
         "18",
         "787",
         "18200000",
         "300000",
         "16200000",
         "5400000",
         " Approved"
        ],
        [
         "45",
         "46",
         "4",
         " Graduate",
         " No",
         "8000000",
         "27800000",
         "16",
         "331",
         "13000000",
         "6300000",
         "21400000",
         "10900000",
         " Rejected"
        ],
        [
         "46",
         "47",
         "3",
         " Not Graduate",
         " Yes",
         "4200000",
         "14600000",
         "6",
         "679",
         "2400000",
         "6900000",
         "8700000",
         "4900000",
         " Approved"
        ],
        [
         "47",
         "48",
         "1",
         " Graduate",
         " Yes",
         "4900000",
         "19100000",
         "14",
         "677",
         "5400000",
         "9100000",
         "17700000",
         "6500000",
         " Approved"
        ],
        [
         "48",
         "49",
         "3",
         " Not Graduate",
         " No",
         "5500000",
         "20500000",
         "12",
         "634",
         "800000",
         "8600000",
         "18500000",
         "8200000",
         " Approved"
        ],
        [
         "49",
         "50",
         "1",
         " Not Graduate",
         " Yes",
         "9500000",
         "19100000",
         "16",
         "662",
         "100000",
         "10500000",
         "37700000",
         "11700000",
         " Approved"
        ]
       ],
       "shape": {
        "columns": 13,
        "rows": 4269
       }
      },
      "text/html": [
       "<div>\n",
       "<style scoped>\n",
       "    .dataframe tbody tr th:only-of-type {\n",
       "        vertical-align: middle;\n",
       "    }\n",
       "\n",
       "    .dataframe tbody tr th {\n",
       "        vertical-align: top;\n",
       "    }\n",
       "\n",
       "    .dataframe thead th {\n",
       "        text-align: right;\n",
       "    }\n",
       "</style>\n",
       "<table border=\"1\" class=\"dataframe\">\n",
       "  <thead>\n",
       "    <tr style=\"text-align: right;\">\n",
       "      <th></th>\n",
       "      <th>loan_id</th>\n",
       "      <th>no_of_dependents</th>\n",
       "      <th>education</th>\n",
       "      <th>self_employed</th>\n",
       "      <th>income_annum</th>\n",
       "      <th>loan_amount</th>\n",
       "      <th>loan_term</th>\n",
       "      <th>cibil_score</th>\n",
       "      <th>residential_assets_value</th>\n",
       "      <th>commercial_assets_value</th>\n",
       "      <th>luxury_assets_value</th>\n",
       "      <th>bank_asset_value</th>\n",
       "      <th>loan_status</th>\n",
       "    </tr>\n",
       "  </thead>\n",
       "  <tbody>\n",
       "    <tr>\n",
       "      <th>0</th>\n",
       "      <td>1</td>\n",
       "      <td>2</td>\n",
       "      <td>Graduate</td>\n",
       "      <td>No</td>\n",
       "      <td>9600000</td>\n",
       "      <td>29900000</td>\n",
       "      <td>12</td>\n",
       "      <td>778</td>\n",
       "      <td>2400000</td>\n",
       "      <td>17600000</td>\n",
       "      <td>22700000</td>\n",
       "      <td>8000000</td>\n",
       "      <td>Approved</td>\n",
       "    </tr>\n",
       "    <tr>\n",
       "      <th>1</th>\n",
       "      <td>2</td>\n",
       "      <td>0</td>\n",
       "      <td>Not Graduate</td>\n",
       "      <td>Yes</td>\n",
       "      <td>4100000</td>\n",
       "      <td>12200000</td>\n",
       "      <td>8</td>\n",
       "      <td>417</td>\n",
       "      <td>2700000</td>\n",
       "      <td>2200000</td>\n",
       "      <td>8800000</td>\n",
       "      <td>3300000</td>\n",
       "      <td>Rejected</td>\n",
       "    </tr>\n",
       "    <tr>\n",
       "      <th>2</th>\n",
       "      <td>3</td>\n",
       "      <td>3</td>\n",
       "      <td>Graduate</td>\n",
       "      <td>No</td>\n",
       "      <td>9100000</td>\n",
       "      <td>29700000</td>\n",
       "      <td>20</td>\n",
       "      <td>506</td>\n",
       "      <td>7100000</td>\n",
       "      <td>4500000</td>\n",
       "      <td>33300000</td>\n",
       "      <td>12800000</td>\n",
       "      <td>Rejected</td>\n",
       "    </tr>\n",
       "    <tr>\n",
       "      <th>3</th>\n",
       "      <td>4</td>\n",
       "      <td>3</td>\n",
       "      <td>Graduate</td>\n",
       "      <td>No</td>\n",
       "      <td>8200000</td>\n",
       "      <td>30700000</td>\n",
       "      <td>8</td>\n",
       "      <td>467</td>\n",
       "      <td>18200000</td>\n",
       "      <td>3300000</td>\n",
       "      <td>23300000</td>\n",
       "      <td>7900000</td>\n",
       "      <td>Rejected</td>\n",
       "    </tr>\n",
       "    <tr>\n",
       "      <th>4</th>\n",
       "      <td>5</td>\n",
       "      <td>5</td>\n",
       "      <td>Not Graduate</td>\n",
       "      <td>Yes</td>\n",
       "      <td>9800000</td>\n",
       "      <td>24200000</td>\n",
       "      <td>20</td>\n",
       "      <td>382</td>\n",
       "      <td>12400000</td>\n",
       "      <td>8200000</td>\n",
       "      <td>29400000</td>\n",
       "      <td>5000000</td>\n",
       "      <td>Rejected</td>\n",
       "    </tr>\n",
       "    <tr>\n",
       "      <th>...</th>\n",
       "      <td>...</td>\n",
       "      <td>...</td>\n",
       "      <td>...</td>\n",
       "      <td>...</td>\n",
       "      <td>...</td>\n",
       "      <td>...</td>\n",
       "      <td>...</td>\n",
       "      <td>...</td>\n",
       "      <td>...</td>\n",
       "      <td>...</td>\n",
       "      <td>...</td>\n",
       "      <td>...</td>\n",
       "      <td>...</td>\n",
       "    </tr>\n",
       "    <tr>\n",
       "      <th>4264</th>\n",
       "      <td>4265</td>\n",
       "      <td>5</td>\n",
       "      <td>Graduate</td>\n",
       "      <td>Yes</td>\n",
       "      <td>1000000</td>\n",
       "      <td>2300000</td>\n",
       "      <td>12</td>\n",
       "      <td>317</td>\n",
       "      <td>2800000</td>\n",
       "      <td>500000</td>\n",
       "      <td>3300000</td>\n",
       "      <td>800000</td>\n",
       "      <td>Rejected</td>\n",
       "    </tr>\n",
       "    <tr>\n",
       "      <th>4265</th>\n",
       "      <td>4266</td>\n",
       "      <td>0</td>\n",
       "      <td>Not Graduate</td>\n",
       "      <td>Yes</td>\n",
       "      <td>3300000</td>\n",
       "      <td>11300000</td>\n",
       "      <td>20</td>\n",
       "      <td>559</td>\n",
       "      <td>4200000</td>\n",
       "      <td>2900000</td>\n",
       "      <td>11000000</td>\n",
       "      <td>1900000</td>\n",
       "      <td>Approved</td>\n",
       "    </tr>\n",
       "    <tr>\n",
       "      <th>4266</th>\n",
       "      <td>4267</td>\n",
       "      <td>2</td>\n",
       "      <td>Not Graduate</td>\n",
       "      <td>No</td>\n",
       "      <td>6500000</td>\n",
       "      <td>23900000</td>\n",
       "      <td>18</td>\n",
       "      <td>457</td>\n",
       "      <td>1200000</td>\n",
       "      <td>12400000</td>\n",
       "      <td>18100000</td>\n",
       "      <td>7300000</td>\n",
       "      <td>Rejected</td>\n",
       "    </tr>\n",
       "    <tr>\n",
       "      <th>4267</th>\n",
       "      <td>4268</td>\n",
       "      <td>1</td>\n",
       "      <td>Not Graduate</td>\n",
       "      <td>No</td>\n",
       "      <td>4100000</td>\n",
       "      <td>12800000</td>\n",
       "      <td>8</td>\n",
       "      <td>780</td>\n",
       "      <td>8200000</td>\n",
       "      <td>700000</td>\n",
       "      <td>14100000</td>\n",
       "      <td>5800000</td>\n",
       "      <td>Approved</td>\n",
       "    </tr>\n",
       "    <tr>\n",
       "      <th>4268</th>\n",
       "      <td>4269</td>\n",
       "      <td>1</td>\n",
       "      <td>Graduate</td>\n",
       "      <td>No</td>\n",
       "      <td>9200000</td>\n",
       "      <td>29700000</td>\n",
       "      <td>10</td>\n",
       "      <td>607</td>\n",
       "      <td>17800000</td>\n",
       "      <td>11800000</td>\n",
       "      <td>35700000</td>\n",
       "      <td>12000000</td>\n",
       "      <td>Approved</td>\n",
       "    </tr>\n",
       "  </tbody>\n",
       "</table>\n",
       "<p>4269 rows × 13 columns</p>\n",
       "</div>"
      ],
      "text/plain": [
       "      loan_id  no_of_dependents      education self_employed  income_annum  \\\n",
       "0           1                 2       Graduate            No       9600000   \n",
       "1           2                 0   Not Graduate           Yes       4100000   \n",
       "2           3                 3       Graduate            No       9100000   \n",
       "3           4                 3       Graduate            No       8200000   \n",
       "4           5                 5   Not Graduate           Yes       9800000   \n",
       "...       ...               ...            ...           ...           ...   \n",
       "4264     4265                 5       Graduate           Yes       1000000   \n",
       "4265     4266                 0   Not Graduate           Yes       3300000   \n",
       "4266     4267                 2   Not Graduate            No       6500000   \n",
       "4267     4268                 1   Not Graduate            No       4100000   \n",
       "4268     4269                 1       Graduate            No       9200000   \n",
       "\n",
       "      loan_amount  loan_term  cibil_score  residential_assets_value  \\\n",
       "0        29900000         12          778                   2400000   \n",
       "1        12200000          8          417                   2700000   \n",
       "2        29700000         20          506                   7100000   \n",
       "3        30700000          8          467                  18200000   \n",
       "4        24200000         20          382                  12400000   \n",
       "...           ...        ...          ...                       ...   \n",
       "4264      2300000         12          317                   2800000   \n",
       "4265     11300000         20          559                   4200000   \n",
       "4266     23900000         18          457                   1200000   \n",
       "4267     12800000          8          780                   8200000   \n",
       "4268     29700000         10          607                  17800000   \n",
       "\n",
       "      commercial_assets_value  luxury_assets_value  bank_asset_value  \\\n",
       "0                    17600000             22700000           8000000   \n",
       "1                     2200000              8800000           3300000   \n",
       "2                     4500000             33300000          12800000   \n",
       "3                     3300000             23300000           7900000   \n",
       "4                     8200000             29400000           5000000   \n",
       "...                       ...                  ...               ...   \n",
       "4264                   500000              3300000            800000   \n",
       "4265                  2900000             11000000           1900000   \n",
       "4266                 12400000             18100000           7300000   \n",
       "4267                   700000             14100000           5800000   \n",
       "4268                 11800000             35700000          12000000   \n",
       "\n",
       "     loan_status  \n",
       "0       Approved  \n",
       "1       Rejected  \n",
       "2       Rejected  \n",
       "3       Rejected  \n",
       "4       Rejected  \n",
       "...          ...  \n",
       "4264    Rejected  \n",
       "4265    Approved  \n",
       "4266    Rejected  \n",
       "4267    Approved  \n",
       "4268    Approved  \n",
       "\n",
       "[4269 rows x 13 columns]"
      ]
     },
     "execution_count": 6,
     "metadata": {},
     "output_type": "execute_result"
    }
   ],
   "source": [
    "df"
   ]
  },
  {
   "cell_type": "markdown",
   "id": "722dd986",
   "metadata": {},
   "source": [
    "## Checking the info of the data "
   ]
  },
  {
   "cell_type": "code",
   "execution_count": 7,
   "id": "450f0571",
   "metadata": {
    "scrolled": true
   },
   "outputs": [
    {
     "name": "stdout",
     "output_type": "stream",
     "text": [
      "<class 'pandas.core.frame.DataFrame'>\n",
      "RangeIndex: 4269 entries, 0 to 4268\n",
      "Data columns (total 13 columns):\n",
      " #   Column                    Non-Null Count  Dtype \n",
      "---  ------                    --------------  ----- \n",
      " 0   loan_id                   4269 non-null   int64 \n",
      " 1   no_of_dependents          4269 non-null   int64 \n",
      " 2   education                 4269 non-null   object\n",
      " 3   self_employed             4269 non-null   object\n",
      " 4   income_annum              4269 non-null   int64 \n",
      " 5   loan_amount               4269 non-null   int64 \n",
      " 6   loan_term                 4269 non-null   int64 \n",
      " 7   cibil_score               4269 non-null   int64 \n",
      " 8   residential_assets_value  4269 non-null   int64 \n",
      " 9   commercial_assets_value   4269 non-null   int64 \n",
      " 10  luxury_assets_value       4269 non-null   int64 \n",
      " 11  bank_asset_value          4269 non-null   int64 \n",
      " 12  loan_status               4269 non-null   object\n",
      "dtypes: int64(10), object(3)\n",
      "memory usage: 433.7+ KB\n"
     ]
    }
   ],
   "source": [
    "df.info()"
   ]
  },
  {
   "cell_type": "markdown",
   "id": "71808c79",
   "metadata": {},
   "source": [
    "## Checking for null values of the dataset"
   ]
  },
  {
   "cell_type": "code",
   "execution_count": 8,
   "id": "8782854c",
   "metadata": {},
   "outputs": [
    {
     "data": {
      "text/plain": [
       "loan_id                     0\n",
       "no_of_dependents            0\n",
       "education                   0\n",
       "self_employed               0\n",
       "income_annum                0\n",
       "loan_amount                 0\n",
       "loan_term                   0\n",
       "cibil_score                 0\n",
       "residential_assets_value    0\n",
       "commercial_assets_value     0\n",
       "luxury_assets_value         0\n",
       "bank_asset_value            0\n",
       "loan_status                 0\n",
       "dtype: int64"
      ]
     },
     "execution_count": 8,
     "metadata": {},
     "output_type": "execute_result"
    }
   ],
   "source": [
    "df.isnull().sum()"
   ]
  },
  {
   "cell_type": "markdown",
   "id": "cca2562d",
   "metadata": {},
   "source": [
    "# Exploratory Data Analysis"
   ]
  },
  {
   "cell_type": "markdown",
   "id": "3f1945d0",
   "metadata": {},
   "source": [
    "## Countplot of the target feature Loan Status "
   ]
  },
  {
   "cell_type": "code",
   "execution_count": 9,
   "id": "42c86b12",
   "metadata": {},
   "outputs": [
    {
     "data": {
      "image/png": "[encoded data removed]",
      "text/plain": [
       "<Figure size 800x600 with 1 Axes>"
      ]
     },
     "metadata": {},
     "output_type": "display_data"
    }
   ],
   "source": [
    "plt.figure(figsize=(8, 6))\n",
    "sns.set_style(\"whitegrid\")\n",
    "sns.countplot(x = \"loan_status\",data = df)\n",
    "plt.xlabel('Loan Status')\n",
    "plt.ylabel('Count')\n",
    "plt.title('Distribution of Loan Status')\n",
    "plt.xticks(ticks=[0, 1], labels=['Not Approved', 'Approved'])\n",
    "plt.show()"
   ]
  },
  {
   "cell_type": "code",
   "execution_count": 10,
   "id": "9886715c",
   "metadata": {},
   "outputs": [
    {
     "data": {
      "text/plain": [
       "loan_status\n",
       "Approved    2656\n",
       "Rejected    1613\n",
       "Name: count, dtype: int64"
      ]
     },
     "execution_count": 10,
     "metadata": {},
     "output_type": "execute_result"
    }
   ],
   "source": [
    "df['loan_status'].value_counts()"
   ]
  },
  {
   "cell_type": "markdown",
   "id": "cd96fa38",
   "metadata": {},
   "source": [
    "## Inferences on the distribution of classes in target feature\n",
    "\n",
    "From the observation above we can see that the classes of the target variable are imbalanced. The class \"Approved\" consists of 2656 samples and class \"Rejected\" consists of 1613 samples. The class balance of the target feature is crucial in machine learning as it directly impacts the model's performance and the reliability of its predictions.\n",
    "\n",
    "## Problems associated with respect to class imbalance \n",
    " \n",
    "Model tends to perform better only on the class with majority number of samples, while it struggles to predict the class with fewer samples. An imbalanced class distribution, where one class has significantly more samples than the other, can lead to biased model outcomes. "
   ]
  },
  {
   "cell_type": "markdown",
   "id": "913174ff",
   "metadata": {},
   "source": [
    "# Visualizing loan amount with respect to status using boxplot"
   ]
  },
  {
   "cell_type": "code",
   "execution_count": 11,
   "id": "e244cd54",
   "metadata": {},
   "outputs": [
    {
     "data": {
      "image/png": "[encoded data removed]",
      "text/plain": [
       "<Figure size 800x600 with 1 Axes>"
      ]
     },
     "metadata": {},
     "output_type": "display_data"
    }
   ],
   "source": [
    "plt.figure(figsize=(8, 6))\n",
    "sns.boxplot(x='loan_status', y='loan_amount', data=df, palette='cool')\n",
    "plt.xlabel('Loan Status')\n",
    "plt.ylabel('Loan Amount')\n",
    "plt.title('Loan Amount Distribution by Loan Status')\n",
    "plt.show()"
   ]
  },
  {
   "cell_type": "markdown",
   "id": "c4e33e6f",
   "metadata": {},
   "source": [
    "## Inferences on the above boxplot\n",
    "\n",
    "From the above boxplot we are trying to understand the relation between the loan amount and loan status. We cal clearly observe  that median value of both classes \"Approved\" and \"Rejected' is mostly same. But there are diffrences with respect to the minimum third quartile and maximum values. The \"Approved\" class has loan amount relatively higher that that for class \"Rejected\". "
   ]
  },
  {
   "cell_type": "markdown",
   "id": "5cb6980c",
   "metadata": {},
   "source": [
    "## Count plot of Loan status with repect to education"
   ]
  },
  {
   "cell_type": "code",
   "execution_count": 12,
   "id": "9c859903",
   "metadata": {},
   "outputs": [
    {
     "data": {
      "image/png": "[encoded data removed]",
      "text/plain": [
       "<Figure size 800x600 with 1 Axes>"
      ]
     },
     "metadata": {},
     "output_type": "display_data"
    }
   ],
   "source": [
    "plt.figure(figsize=(8, 6))\n",
    "sns.countplot(x='education', hue='loan_status', data=df, palette='winter')\n",
    "plt.xlabel('Education')\n",
    "plt.ylabel('Count')\n",
    "plt.title('Distribution of Loan Status by Education')\n",
    "plt.legend(title='Loan Status', labels=['Not Approved', 'Approved'])\n",
    "plt.show()"
   ]
  },
  {
   "cell_type": "markdown",
   "id": "a0734a53",
   "metadata": {},
   "source": [
    "## Inferences on the above countplot\n",
    "\n",
    "Analyzing the countplot reveals an interesting insight: the distribution of the 'Approved' class remains consistent for both 'Graduate' and 'NotGraduate' applicants. However, a notable distinction emerges in the count of 'Not Approved' instances. It's evident that the count of 'Not Approved' instances is noticeably higher for 'Graduate' applications in comparison to the count for 'Not Graduate' applications.\""
   ]
  },
  {
   "cell_type": "markdown",
   "id": "429e6b8e",
   "metadata": {},
   "source": [
    "## Visualizing Loan Status with respect to Self Employed"
   ]
  },
  {
   "cell_type": "code",
   "execution_count": 13,
   "id": "d4536c09",
   "metadata": {},
   "outputs": [
    {
     "data": {
      "image/png": "[encoded data removed]",
      "text/plain": [
       "<Figure size 800x600 with 1 Axes>"
      ]
     },
     "metadata": {},
     "output_type": "display_data"
    }
   ],
   "source": [
    "plt.figure(figsize=(8, 6))\n",
    "sns.countplot(x='self_employed', hue='loan_status', data=df, palette='winter')\n",
    "plt.xlabel('Self Employed')\n",
    "plt.ylabel('Count')\n",
    "plt.title('Distribution of Loan Status by Self Employment')\n",
    "plt.legend(title='Loan Status', labels=['Not Approved', 'Approved'])\n",
    "plt.show()"
   ]
  },
  {
   "cell_type": "markdown",
   "id": "bad65086",
   "metadata": {},
   "source": [
    "## Inferences on the above count plot\n",
    "\n",
    "The count plot above provides valuable insights into the relationship between Loan Status and the 'SelfEmployed' feature. This analysis helps us undestand the influence of an applicant's self-employment status on their loan approval. Interestingly, regardless of whether an applicant is self-employed or not, we observe an almost equal count of 'Approved' instances. However, an  pattern emerges when we examine loan rejections. We notice a slightly higher count of rejections among applicants who are self-employed. This suggests that the 'SelfEmployed' status might play a subtle role in loan rejection, warranting further investigation.\""
   ]
  },
  {
   "cell_type": "markdown",
   "id": "db72cbc8",
   "metadata": {},
   "source": [
    "# Histogram of Annual Income of the applicants"
   ]
  },
  {
   "cell_type": "code",
   "execution_count": 14,
   "id": "a74fc9d4",
   "metadata": {},
   "outputs": [
    {
     "data": {
      "image/png": "[encoded data removed]",
      "text/plain": [
       "<Figure size 1000x600 with 1 Axes>"
      ]
     },
     "metadata": {},
     "output_type": "display_data"
    }
   ],
   "source": [
    "plt.figure(figsize=(10, 6))\n",
    "sns.histplot(data=df, x='income_annum', bins=20, kde=True, color='blue')\n",
    "plt.xlabel('Annual Income')\n",
    "plt.ylabel('Count')\n",
    "plt.title('Distribution of Annual Income')\n",
    "plt.show()"
   ]
  },
  {
   "cell_type": "markdown",
   "id": "087652b3",
   "metadata": {},
   "source": [
    "# Inferences on the above histogram\n",
    "\n",
    "The histogram of the 'income_amount' column shows a distribution that is neither strongly right-skewed nor left-skewed. It appears to be relatively symmetrical with a spread of observations across a wide range of income amounts. The histogram indicates that there is no dominant trend of incomes being clustered in a specific range."
   ]
  },
  {
   "cell_type": "markdown",
   "id": "07e1ef4e",
   "metadata": {},
   "source": [
    "# Visualizing Loan Status with respect to Annual Income"
   ]
  },
  {
   "cell_type": "code",
   "execution_count": 15,
   "id": "71ebedf5",
   "metadata": {},
   "outputs": [
    {
     "data": {
      "image/png": "[encoded data removed]",
      "text/plain": [
       "<Figure size 800x600 with 1 Axes>"
      ]
     },
     "metadata": {},
     "output_type": "display_data"
    }
   ],
   "source": [
    "plt.figure(figsize=(8, 6))\n",
    "sns.boxplot(x='loan_status', y='income_annum', data=df, palette='winter')\n",
    "plt.xlabel('Loan Status')\n",
    "plt.ylabel('Annual Income')\n",
    "plt.title('Annual Income Distribution by Loan Status')\n",
    "plt.show()"
   ]
  },
  {
   "cell_type": "markdown",
   "id": "078d4a4d",
   "metadata": {},
   "source": [
    "## Visualizing the cibil score"
   ]
  },
  {
   "cell_type": "code",
   "execution_count": 16,
   "id": "c5943d29",
   "metadata": {},
   "outputs": [
    {
     "data": {
      "image/png": "[encoded data removed]",
      "text/plain": [
       "<Figure size 1000x600 with 1 Axes>"
      ]
     },
     "metadata": {},
     "output_type": "display_data"
    }
   ],
   "source": [
    "plt.figure(figsize=(10, 6))\n",
    "sns.histplot(data=df, x='cibil_score', bins=20, kde=True, color='orange')\n",
    "plt.xlabel('CIBIL Score')\n",
    "plt.ylabel('Count')\n",
    "plt.title('Distribution of Loan Status by CIBIL Score')\n",
    "plt.show()"
   ]
  },
  {
   "cell_type": "markdown",
   "id": "40b55933",
   "metadata": {},
   "source": [
    "# Visualizing Cibil Score with respect to Loan Status"
   ]
  },
  {
   "cell_type": "code",
   "execution_count": 17,
   "id": "5be3c390",
   "metadata": {},
   "outputs": [
    {
     "data": {
      "image/png": "[encoded data removed]",
      "text/plain": [
       "<Figure size 800x600 with 1 Axes>"
      ]
     },
     "metadata": {},
     "output_type": "display_data"
    }
   ],
   "source": [
    "plt.figure(figsize=(8, 6))\n",
    "sns.boxplot(x='loan_status', y='cibil_score', data=df, palette='winter')\n",
    "plt.xlabel('Loan Status')\n",
    "plt.ylabel('CIBIL Score')\n",
    "plt.title('CIBIL Score Distribution by Loan Status')\n",
    "plt.show()"
   ]
  },
  {
   "cell_type": "markdown",
   "id": "c2f5e719",
   "metadata": {},
   "source": [
    "# Inferences on the above boxplot\n",
    "\n",
    "The boxplot a representation makes it quite evident that applicants with lower CIBIL scores are more likely to have their loan applications denied. For those who get approved, the median CIBIL score is around 720, whereas for those who are rejected, it is closer to 430. Notably, there are outliers above the upper whisker within the rejected group, showing a few individuals with high CIBIL scores, up to 900, yet falling under the rejected category. This implies that although if higher CIBIL scores tend to correlate with increased acceptance probability, other factors may still cause some outliers to be rejected in spite of their favorable scores."
   ]
  },
  {
   "cell_type": "markdown",
   "id": "9666906d",
   "metadata": {},
   "source": [
    "# Encoding the string categorical columns\n",
    "\n",
    "For us to be able to consider the predictors/estimators and for the model to be able to interpret the independent features and study the patterns and relationships the data has to be numerical. Our data has columns like education, self_employed which are categorical string variables that we are encoding to categorical numeric features. Moreover, our target feature is also originally a string categorical variable, so we are encoding the dependent variable \"loan_status\" ."
   ]
  },
  {
   "cell_type": "code",
   "execution_count": 18,
   "id": "d73bd54a",
   "metadata": {},
   "outputs": [],
   "source": [
    "import pandas as pd\n",
    "df['education_enocoded'] = df['education'].map({' Graduate': 1, ' Not Graduate': 0})\n",
    "df['self_employed_encoded'] = df['self_employed'].map({' No':0, ' Yes':1})\n",
    "df['loan_status_encoded'] = df['loan_status'].map({' Approved': 1, ' Rejected': 0})"
   ]
  },
  {
   "cell_type": "markdown",
   "id": "b653b09d",
   "metadata": {},
   "source": [
    "## Dropping the original string columns"
   ]
  },
  {
   "cell_type": "code",
   "execution_count": 19,
   "id": "6385e999",
   "metadata": {},
   "outputs": [],
   "source": [
    "df.drop('loan_status', axis=1, inplace=True)\n",
    "df.drop('education', axis=1, inplace=True)\n",
    "df.drop('self_employed', axis=1, inplace=True)"
   ]
  },
  {
   "cell_type": "markdown",
   "id": "46d081ae",
   "metadata": {},
   "source": [
    "## Using Zscores to remove outliers (threshold = -3 to +3)"
   ]
  },
  {
   "cell_type": "code",
   "execution_count": 20,
   "id": "10cbf4d6",
   "metadata": {},
   "outputs": [],
   "source": [
    "import pandas as pd\n",
    "from scipy import stats\n",
    "\n",
    "# Getting only the numeric columns from the DataFrame\n",
    "numeric_columns = df.select_dtypes(include='number')\n",
    "\n",
    "# Calculating Z-scores for each numeric column\n",
    "z_scores = stats.zscore(numeric_columns)\n",
    "\n",
    "# Finding rows with Z-score greater than 3 or less than -3\n",
    "outlier_rows = (abs(z_scores) > 3).any(axis=1) | (abs(z_scores) < -3).any(axis=1)\n",
    "\n",
    "# Removing outlier rows from the DataFrame in place\n",
    "df = df[~outlier_rows]"
   ]
  },
  {
   "cell_type": "markdown",
   "id": "27cce913",
   "metadata": {},
   "source": [
    "## Inferences Outlier\n",
    "\n",
    "\n",
    "In a normal distribution, approximately 99.7% of the data falls within the range of -3 to +3 standard deviations from the mean. Outliers beyond this range are often considered extreme and less likely to occur under normal circumstances.By considering a range of -3 to +3, you can exclude extreme values that are likely to distort your analysis while retaining most of the data for analysis. Limiting the removal to the -3 to +3 range helps balance data integrity and outlier removal."
   ]
  },
  {
   "cell_type": "markdown",
   "id": "c81f362c",
   "metadata": {},
   "source": [
    "## Total Number of Outliers Removed"
   ]
  },
  {
   "cell_type": "code",
   "execution_count": 21,
   "id": "eda7539e",
   "metadata": {},
   "outputs": [
    {
     "name": "stdout",
     "output_type": "stream",
     "text": [
      "Number of outliers removed: 33\n"
     ]
    }
   ],
   "source": [
    "num_outliers_removed = outlier_rows.sum()\n",
    "print(\"Number of outliers removed:\", num_outliers_removed)"
   ]
  },
  {
   "cell_type": "markdown",
   "id": "fe524cc6",
   "metadata": {},
   "source": [
    "## Correaltion "
   ]
  },
  {
   "cell_type": "code",
   "execution_count": 22,
   "id": "225c91b6",
   "metadata": {},
   "outputs": [
    {
     "data": {
      "text/plain": [
       "loan_id                     0.016302\n",
       "no_of_dependents           -0.016993\n",
       "income_annum               -0.015058\n",
       "loan_amount                 0.016278\n",
       "loan_term                  -0.114573\n",
       "cibil_score                 0.770565\n",
       "residential_assets_value   -0.018043\n",
       "commercial_assets_value     0.010897\n",
       "luxury_assets_value        -0.013428\n",
       "bank_asset_value           -0.007012\n",
       "education_enocoded          0.004176\n",
       "self_employed_encoded       0.001622\n",
       "loan_status_encoded         1.000000\n",
       "Name: loan_status_encoded, dtype: float64"
      ]
     },
     "execution_count": 22,
     "metadata": {},
     "output_type": "execute_result"
    }
   ],
   "source": [
    "df[['loan_id', 'no_of_dependents', 'income_annum', 'loan_amount',\n",
    "       'loan_term', 'cibil_score', 'residential_assets_value',\n",
    "       'commercial_assets_value', 'luxury_assets_value', 'bank_asset_value',\n",
    "       'education_enocoded', 'self_employed_encoded', 'loan_status_encoded']].corr()['loan_status_encoded']"
   ]
  },
  {
   "cell_type": "markdown",
   "id": "8f2425b5",
   "metadata": {},
   "source": [
    "## Inferences Correlations\n",
    "\n",
    "The correlation analysis reveals that a higher \"cibil_score\" is strongly correlated with approved loan status, indicating that applicants with better credit scores are more likely to get approved. Conversely, a longer \"loan_term\" is modestly associated with a slightly lower approval chance. "
   ]
  },
  {
   "cell_type": "markdown",
   "id": "5a6ce11a",
   "metadata": {},
   "source": [
    "## Splitting into Independent and Dependent Set"
   ]
  },
  {
   "cell_type": "code",
   "execution_count": 23,
   "id": "c724266f",
   "metadata": {},
   "outputs": [],
   "source": [
    "X = df.iloc[:,1:-1]\n",
    "y = df.iloc[:,-1]"
   ]
  },
  {
   "cell_type": "code",
   "execution_count": 24,
   "id": "15e2b94b",
   "metadata": {},
   "outputs": [
    {
     "data": {
      "application/vnd.microsoft.datawrangler.viewer.v0+json": {
       "columns": [
        {
         "name": "index",
         "rawType": "int64",
         "type": "integer"
        },
        {
         "name": "no_of_dependents",
         "rawType": "int64",
         "type": "integer"
        },
        {
         "name": "income_annum",
         "rawType": "int64",
         "type": "integer"
        },
        {
         "name": "loan_amount",
         "rawType": "int64",
         "type": "integer"
        },
        {
         "name": "loan_term",
         "rawType": "int64",
         "type": "integer"
        },
        {
         "name": "cibil_score",
         "rawType": "int64",
         "type": "integer"
        },
        {
         "name": "residential_assets_value",
         "rawType": "int64",
         "type": "integer"
        },
        {
         "name": "commercial_assets_value",
         "rawType": "int64",
         "type": "integer"
        },
        {
         "name": "luxury_assets_value",
         "rawType": "int64",
         "type": "integer"
        },
        {
         "name": "bank_asset_value",
         "rawType": "int64",
         "type": "integer"
        },
        {
         "name": "education_enocoded",
         "rawType": "int64",
         "type": "integer"
        },
        {
         "name": "self_employed_encoded",
         "rawType": "int64",
         "type": "integer"
        }
       ],
       "conversionMethod": "pd.DataFrame",
       "ref": "12aaae8e-6cc8-40d8-84d9-fa37313b2476",
       "rows": [
        [
         "0",
         "2",
         "9600000",
         "29900000",
         "12",
         "778",
         "2400000",
         "17600000",
         "22700000",
         "8000000",
         "1",
         "0"
        ],
        [
         "1",
         "0",
         "4100000",
         "12200000",
         "8",
         "417",
         "2700000",
         "2200000",
         "8800000",
         "3300000",
         "0",
         "1"
        ],
        [
         "2",
         "3",
         "9100000",
         "29700000",
         "20",
         "506",
         "7100000",
         "4500000",
         "33300000",
         "12800000",
         "1",
         "0"
        ],
        [
         "3",
         "3",
         "8200000",
         "30700000",
         "8",
         "467",
         "18200000",
         "3300000",
         "23300000",
         "7900000",
         "1",
         "0"
        ],
        [
         "4",
         "5",
         "9800000",
         "24200000",
         "20",
         "382",
         "12400000",
         "8200000",
         "29400000",
         "5000000",
         "0",
         "1"
        ]
       ],
       "shape": {
        "columns": 11,
        "rows": 5
       }
      },
      "text/html": [
       "<div>\n",
       "<style scoped>\n",
       "    .dataframe tbody tr th:only-of-type {\n",
       "        vertical-align: middle;\n",
       "    }\n",
       "\n",
       "    .dataframe tbody tr th {\n",
       "        vertical-align: top;\n",
       "    }\n",
       "\n",
       "    .dataframe thead th {\n",
       "        text-align: right;\n",
       "    }\n",
       "</style>\n",
       "<table border=\"1\" class=\"dataframe\">\n",
       "  <thead>\n",
       "    <tr style=\"text-align: right;\">\n",
       "      <th></th>\n",
       "      <th>no_of_dependents</th>\n",
       "      <th>income_annum</th>\n",
       "      <th>loan_amount</th>\n",
       "      <th>loan_term</th>\n",
       "      <th>cibil_score</th>\n",
       "      <th>residential_assets_value</th>\n",
       "      <th>commercial_assets_value</th>\n",
       "      <th>luxury_assets_value</th>\n",
       "      <th>bank_asset_value</th>\n",
       "      <th>education_enocoded</th>\n",
       "      <th>self_employed_encoded</th>\n",
       "    </tr>\n",
       "  </thead>\n",
       "  <tbody>\n",
       "    <tr>\n",
       "      <th>0</th>\n",
       "      <td>2</td>\n",
       "      <td>9600000</td>\n",
       "      <td>29900000</td>\n",
       "      <td>12</td>\n",
       "      <td>778</td>\n",
       "      <td>2400000</td>\n",
       "      <td>17600000</td>\n",
       "      <td>22700000</td>\n",
       "      <td>8000000</td>\n",
       "      <td>1</td>\n",
       "      <td>0</td>\n",
       "    </tr>\n",
       "    <tr>\n",
       "      <th>1</th>\n",
       "      <td>0</td>\n",
       "      <td>4100000</td>\n",
       "      <td>12200000</td>\n",
       "      <td>8</td>\n",
       "      <td>417</td>\n",
       "      <td>2700000</td>\n",
       "      <td>2200000</td>\n",
       "      <td>8800000</td>\n",
       "      <td>3300000</td>\n",
       "      <td>0</td>\n",
       "      <td>1</td>\n",
       "    </tr>\n",
       "    <tr>\n",
       "      <th>2</th>\n",
       "      <td>3</td>\n",
       "      <td>9100000</td>\n",
       "      <td>29700000</td>\n",
       "      <td>20</td>\n",
       "      <td>506</td>\n",
       "      <td>7100000</td>\n",
       "      <td>4500000</td>\n",
       "      <td>33300000</td>\n",
       "      <td>12800000</td>\n",
       "      <td>1</td>\n",
       "      <td>0</td>\n",
       "    </tr>\n",
       "    <tr>\n",
       "      <th>3</th>\n",
       "      <td>3</td>\n",
       "      <td>8200000</td>\n",
       "      <td>30700000</td>\n",
       "      <td>8</td>\n",
       "      <td>467</td>\n",
       "      <td>18200000</td>\n",
       "      <td>3300000</td>\n",
       "      <td>23300000</td>\n",
       "      <td>7900000</td>\n",
       "      <td>1</td>\n",
       "      <td>0</td>\n",
       "    </tr>\n",
       "    <tr>\n",
       "      <th>4</th>\n",
       "      <td>5</td>\n",
       "      <td>9800000</td>\n",
       "      <td>24200000</td>\n",
       "      <td>20</td>\n",
       "      <td>382</td>\n",
       "      <td>12400000</td>\n",
       "      <td>8200000</td>\n",
       "      <td>29400000</td>\n",
       "      <td>5000000</td>\n",
       "      <td>0</td>\n",
       "      <td>1</td>\n",
       "    </tr>\n",
       "  </tbody>\n",
       "</table>\n",
       "</div>"
      ],
      "text/plain": [
       "   no_of_dependents  income_annum  loan_amount  loan_term  cibil_score  \\\n",
       "0                 2       9600000     29900000         12          778   \n",
       "1                 0       4100000     12200000          8          417   \n",
       "2                 3       9100000     29700000         20          506   \n",
       "3                 3       8200000     30700000          8          467   \n",
       "4                 5       9800000     24200000         20          382   \n",
       "\n",
       "   residential_assets_value  commercial_assets_value  luxury_assets_value  \\\n",
       "0                   2400000                 17600000             22700000   \n",
       "1                   2700000                  2200000              8800000   \n",
       "2                   7100000                  4500000             33300000   \n",
       "3                  18200000                  3300000             23300000   \n",
       "4                  12400000                  8200000             29400000   \n",
       "\n",
       "   bank_asset_value  education_enocoded  self_employed_encoded  \n",
       "0           8000000                   1                      0  \n",
       "1           3300000                   0                      1  \n",
       "2          12800000                   1                      0  \n",
       "3           7900000                   1                      0  \n",
       "4           5000000                   0                      1  "
      ]
     },
     "execution_count": 24,
     "metadata": {},
     "output_type": "execute_result"
    }
   ],
   "source": [
    "X.head()"
   ]
  },
  {
   "cell_type": "code",
   "execution_count": 25,
   "id": "c87e0224",
   "metadata": {},
   "outputs": [
    {
     "data": {
      "text/plain": [
       "0    1\n",
       "1    0\n",
       "2    0\n",
       "3    0\n",
       "4    0\n",
       "Name: loan_status_encoded, dtype: int64"
      ]
     },
     "execution_count": 25,
     "metadata": {},
     "output_type": "execute_result"
    }
   ],
   "source": [
    "y.head()"
   ]
  },
  {
   "cell_type": "markdown",
   "id": "38fabe12",
   "metadata": {},
   "source": [
    "## Scaling the independent variable using Standard Scaler"
   ]
  },
  {
   "cell_type": "code",
   "execution_count": 26,
   "id": "aa06795c",
   "metadata": {},
   "outputs": [],
   "source": [
    "# Scaling the features using Min-Max scaling\n",
    "import pandas as pd\n",
    "from sklearn.preprocessing import StandardScaler\n",
    "scaler = StandardScaler()\n",
    "scaled_data = scaler.fit_transform(X)\n",
    "\n",
    "# Creating a new DataFrame with the scaled values\n",
    "X_scaled = pd.DataFrame(scaled_data, columns=X.columns)"
   ]
  },
  {
   "cell_type": "markdown",
   "id": "c2b05ac0",
   "metadata": {},
   "source": [
    "## Reasons to choose Standard Scaler\n",
    "\n",
    " By scaling the features to have zero mean and unit variance, you ensure that they are on the same scale, preventing one feature from dominating the others due to their different scales. This normalization aids algorithms like Random Forest, Gradient Boosting, and Neural Networks in making accurate predictions, as they rely on feature interactions and distances between data points. "
   ]
  },
  {
   "cell_type": "code",
   "execution_count": 27,
   "id": "a6589033",
   "metadata": {
    "scrolled": false
   },
   "outputs": [
    {
     "data": {
      "application/vnd.microsoft.datawrangler.viewer.v0+json": {
       "columns": [
        {
         "name": "index",
         "rawType": "int64",
         "type": "integer"
        },
        {
         "name": "no_of_dependents",
         "rawType": "float64",
         "type": "float"
        },
        {
         "name": "income_annum",
         "rawType": "float64",
         "type": "float"
        },
        {
         "name": "loan_amount",
         "rawType": "float64",
         "type": "float"
        },
        {
         "name": "loan_term",
         "rawType": "float64",
         "type": "float"
        },
        {
         "name": "cibil_score",
         "rawType": "float64",
         "type": "float"
        },
        {
         "name": "residential_assets_value",
         "rawType": "float64",
         "type": "float"
        },
        {
         "name": "commercial_assets_value",
         "rawType": "float64",
         "type": "float"
        },
        {
         "name": "luxury_assets_value",
         "rawType": "float64",
         "type": "float"
        },
        {
         "name": "bank_asset_value",
         "rawType": "float64",
         "type": "float"
        },
        {
         "name": "education_enocoded",
         "rawType": "float64",
         "type": "float"
        },
        {
         "name": "self_employed_encoded",
         "rawType": "float64",
         "type": "float"
        }
       ],
       "conversionMethod": "pd.DataFrame",
       "ref": "3e3fca51-38ac-434a-a87e-bf8e173d700e",
       "rows": [
        [
         "0",
         "-0.29344312453489557",
         "1.6414712209979863",
         "1.6576629091311215",
         "0.1939094893221029",
         "1.0329060821906717",
         "-0.7801839222453231",
         "2.953092202594044",
         "0.8469305655470571",
         "0.9472200853672328",
         "0.9934116929777103",
         "-1.0071074099793815"
        ],
        [
         "1",
         "-1.4733435284549883",
         "-0.3312306894848384",
         "-0.31438162394663766",
         "-0.5066453906509701",
         "-1.0623260017472989",
         "-0.7330365332525867",
         "-0.6286549853776451",
         "-0.6876888223494857",
         "-0.5082847634043053",
         "-1.0066320006789347",
         "0.992942748798237"
        ],
        [
         "2",
         "0.29650707742515076",
         "1.4621346836813658",
         "1.6353799200567964",
         "1.595019249268249",
         "-0.5457729395022036",
         "-0.041541494692451324",
         "-0.09371871704421098",
         "2.017215854158809",
         "2.4336931224105056",
         "0.9934116929777103",
         "-1.0071074099793815"
        ],
        [
         "3",
         "0.29650707742515076",
         "1.139328916511449",
         "1.7467948654284213",
         "-0.5066453906509701",
         "-0.7721276521714027",
         "1.702911898038799",
         "-0.3728159005225244",
         "0.9131731290533828",
         "0.9162518970954979",
         "0.9934116929777103",
         "-1.0071074099793815"
        ],
        [
         "4",
         "1.4764074813452435",
         "1.7132058359246345",
         "1.02259772051286",
         "1.595019249268249",
         "-1.2654648464504261",
         "0.7913957108458934",
         "0.7668309320139222",
         "1.586639191367693",
         "0.0181744372151872",
         "-1.0066320006789347",
         "0.992942748798237"
        ],
        [
         "5",
         "-1.4733435284549883",
         "-0.08015953724156982",
         "-0.1695421949635254",
         "-0.15636795066443362",
         "-1.6311147669160555",
         "-0.08868888368518782",
         "0.7900890306371149",
         "-0.1467078870478267",
         "0.04914262548692205",
         "0.9934116929777103",
         "0.992942748798237"
        ],
        [
         "6",
         "1.4764074813452435",
         "1.3186654538280695",
         "2.003049239783158",
         "-1.2072002706240432",
         "0.45250938303887933",
         "2.378691140268022",
         "2.301865441144646",
         "1.5645583368655844",
         "-0.19860288068695675",
         "0.9934116929777103",
         "-1.0071074099793815"
        ],
        [
         "7",
         "-0.29344312453489557",
         "0.24264622992834695",
         "-0.002419776906088196",
         "1.595019249268249",
         "-1.2654648464504261",
         "0.9171220814931909",
         "0.18537846643410247",
         "-0.35647600481785774",
         "0.3278563199325357",
         "0.9934116929777103",
         "0.992942748798237"
        ],
        [
         "8",
         "-1.4733435284549883",
         "-1.5148518357745333",
         "-1.4285310776628857",
         "1.595019249268249",
         "1.0561219501567434",
         "-0.953057681885357",
         "-0.9542683661023441",
         "-1.3501144574127415",
         "-1.3444258467411463",
         "0.9934116929777103",
         "0.992942748798237"
        ],
        [
         "9",
         "1.4764074813452435",
         "-1.407249913384561",
         "-1.1945596923824735",
         "-0.15636795066443362",
         "-1.2306410445013187",
         "-0.6544575515980258",
         "-0.8147197743631873",
         "-1.2949123211574702",
         "-1.0347439640237979",
         "-1.0066320006789347",
         "-1.0071074099793815"
        ],
        [
         "10",
         "0.886457279385197",
         "-0.7616383790447274",
         "-0.42579656931826243",
         "-1.5574777106105797",
         "-0.30781029284996875",
         "0.11561646861667034",
         "-0.047202519797825394",
         "-0.6104058315921058",
         "-0.570221139947775",
         "0.9934116929777103",
         "0.992942748798237"
        ],
        [
         "11",
         "-0.29344312453489557",
         "0.6013193045615878",
         "0.8554753024554228",
         "1.2447418092817124",
         "-0.36004599577363006",
         "1.2471538044423462",
         "0.20863656505729525",
         "0.5930007387728091",
         "0.4517290730194751",
         "-1.0066320006789347",
         "0.992942748798237"
        ],
        [
         "12",
         "0.29650707742515076",
         "-0.008424922314921651",
         "-0.38123059116961255",
         "0.8944643692951759",
         "-1.6775465028481988",
         "-0.15155206900883647",
         "1.0924443127386212",
         "-0.0473440417883383",
         "-0.19860288068695675",
         "-1.0066320006789347",
         "0.992942748798237"
        ],
        [
         "13",
         "-0.29344312453489557",
         "1.4621346836813658",
         "1.8359268217257212",
         "0.5441869293086394",
         "0.45831335003039725",
         "0.5399429695512988",
         "2.7205112163621163",
         "0.6482028750280804",
         "0.0181744372151872",
         "0.9934116929777103",
         "0.992942748798237"
        ],
        [
         "14",
         "-0.8833933264949418",
         "-1.1203114536779684",
         "-0.8491733617304367",
         "-0.8569228306375066",
         "-0.7605197181883668",
         "-0.858762903899884",
         "-0.8612359716095729",
         "-1.0078612126300595",
         "-0.9418393992085932",
         "-1.0066320006789347",
         "-1.0071074099793815"
        ],
        [
         "15",
         "1.4764074813452435",
         "-0.11602684470489391",
         "-0.4815040420040749",
         "-0.15636795066443362",
         "1.1257695540549586",
         "-0.26156264332522167",
         "-0.23326730878336768",
         "0.15138364873063848",
         "-0.16763469241522191",
         "-1.0066320006789347",
         "-1.0071074099793815"
        ],
        [
         "16",
         "-0.29344312453489557",
         "-1.6224537581645055",
         "-1.4953800448858605",
         "-1.2072002706240432",
         "0.36544987816611046",
         "-0.953057681885357",
         "-1.1170750564646936",
         "-1.5157208661785555",
         "-1.3134576584694115",
         "0.9934116929777103",
         "0.992942748798237"
        ],
        [
         "17",
         "0.886457279385197",
         "-0.7616383790447274",
         "-0.6263434709871871",
         "0.5441869293086394",
         "1.0445140161737076",
         "-0.7016049405907623",
         "-0.48910639363848835",
         "-0.9195377946216252",
         "-0.19860288068695675",
         "-1.0066320006789347",
         "0.992942748798237"
        ],
        [
         "18",
         "-0.29344312453489557",
         "-0.8333729939713757",
         "-0.5260700201527247",
         "-0.15636795066443362",
         "0.789139468546919",
         "-1.0002050708780934",
         "-1.1403331550878864",
         "-0.9747399308768966",
         "-0.5082847634043053",
         "0.9934116929777103",
         "-1.0071074099793815"
        ],
        [
         "19",
         "1.4764074813452435",
         "0.4578500747082915",
         "-0.04698575505473812",
         "0.1939094893221029",
         "0.3016062412594133",
         "0.461363987896738",
         "-0.32629970327613883",
         "0.9352539835554913",
         "0.29688813166080086",
         "0.9934116929777103",
         "-1.0071074099793815"
        ],
        [
         "20",
         "-0.29344312453489557",
         "-0.008424922314921651",
         "0.48780598272906095",
         "0.1939094893221029",
         "-1.6543306348821272",
         "0.3356376172494407",
         "-0.7682035771168018",
         "0.32803048474750673",
         "0.3588245082042706",
         "0.9934116929777103",
         "-1.0071074099793815"
        ],
        [
         "21",
         "0.886457279385197",
         "0.278513537391671",
         "-0.113834722277713",
         "0.8944643692951759",
         "-0.40647773170577345",
         "-0.5601627736125528",
         "1.4878319893328986",
         "0.7917284292917859",
         "0.1420471903021266",
         "0.9934116929777103",
         "-1.0071074099793815"
        ],
        [
         "22",
         "0.886457279385197",
         "0.5295846896349397",
         "1.1897201385702971",
         "1.2447418092817124",
         "-1.6775465028481988",
         "0.9014062851622786",
         "-0.744945478493609",
         "0.4936368935133207",
         "1.102061026725907",
         "0.9934116929777103",
         "0.992942748798237"
        ],
        [
         "23",
         "-1.4733435284549883",
         "-1.6224537581645055",
         "-1.5176630339601855",
         "-1.5574777106105797",
         "-0.284594424883897",
         "-1.0159208672090057",
         "-1.0007845633487296",
         "-1.537801720680664",
         "-1.4373304115563508",
         "-1.0066320006789347",
         "0.992942748798237"
        ],
        [
         "24",
         "-1.4733435284549883",
         "-0.044292229778245734",
         "-0.5817774928385372",
         "0.8944643692951759",
         "-1.6020949319584659",
         "-0.5601627736125528",
         "0.8831214251298861",
         "-0.5552036953368344",
         "-0.5082847634043053",
         "-1.0066320006789347",
         "-1.0071074099793815"
        ],
        [
         "25",
         "1.4764074813452435",
         "-0.6899037641180793",
         "-0.6152019764500246",
         "1.595019249268249",
         "-0.49934120357006023",
         "0.08418487595484601",
         "-0.41933209776891",
         "-0.9305782218726795",
         "-0.7250620813064492",
         "-1.0066320006789347",
         "-1.0071074099793815"
        ],
        [
         "26",
         "0.886457279385197",
         "1.139328916511449",
         "1.4571160074621967",
         "0.1939094893221029",
         "0.556980788886202",
         "0.649953543867684",
         "1.325025298970549",
         "1.1339816740744681",
         "0.699474579193354",
         "0.9934116929777103",
         "-1.0071074099793815"
        ],
        [
         "27",
         "0.886457279385197",
         "-0.9409749163613479",
         "-1.0497202633993614",
         "-1.2072002706240432",
         "0.35964591117459255",
         "-0.4501521992961676",
         "-0.16349301291378934",
         "-1.0630633488853307",
         "-0.7560302695781841",
         "-1.0066320006789347",
         "0.992942748798237"
        ],
        [
         "28",
         "1.4764074813452435",
         "0.70892122695156",
         "1.000314731438535",
         "-0.8569228306375066",
         "-1.5324473280602506",
         "-0.7958997185762353",
         "1.6273805810720552",
         "1.376871073597662",
         "1.4736792859867252",
         "-1.0066320006789347",
         "0.992942748798237"
        ],
        [
         "29",
         "0.29650707742515076",
         "1.4262673762180418",
         "1.8359268217257212",
         "-0.15636795066443362",
         "1.4507917055799622",
         "2.268680565951637",
         "1.7436710741880193",
         "2.0613775631630262",
         "0.9472200853672328",
         "-1.0066320006789347",
         "0.992942748798237"
        ],
        [
         "30",
         "-0.29344312453489557",
         "1.7132058359246345",
         "1.1451541604216473",
         "0.1939094893221029",
         "-1.665938568865163",
         "2.0172278246570423",
         "0.06908797331813854",
         "1.1560625285765767",
         "1.349806532899786",
         "-1.0066320006789347",
         "-1.0071074099793815"
        ],
        [
         "31",
         "-0.29344312453489557",
         "0.24264622992834695",
         "-0.3366646130209626",
         "-0.8569228306375066",
         "-1.3757402192892667",
         "-0.5915943662743771",
         "0.5807661430283798",
         "0.7365262930365145",
         "-0.19860288068695675",
         "0.9934116929777103",
         "-1.0071074099793815"
        ],
        [
         "32",
         "-0.8833933264949418",
         "-1.5148518357745333",
         "-1.4953800448858605",
         "-0.15636795066443362",
         "-0.9520506289084583",
         "-1.04735245987083",
         "-1.093816957841501",
         "-1.4163570209190672",
         "-1.2205530936542068",
         "-1.0066320006789347",
         "0.992942748798237"
        ],
        [
         "33",
         "1.4764074813452435",
         "1.2110635314380973",
         "0.7774848406952855",
         "-1.5574777106105797",
         "1.3347123657496038",
         "-0.5601627736125528",
         "-0.23326730878336768",
         "0.5377986025175377",
         "0.1420471903021266",
         "-1.0066320006789347",
         "0.992942748798237"
        ],
        [
         "34",
         "0.29650707742515076",
         "-0.044292229778245734",
         "-0.3478061075581251",
         "-0.5066453906509701",
         "0.06944756159869633",
         "0.367069209911265",
         "-0.8612359716095729",
         "0.43843475725804937",
         "0.265919943389066",
         "0.9934116929777103",
         "-1.0071074099793815"
        ],
        [
         "35",
         "-0.29344312453489557",
         "-1.1920460686046164",
         "-1.294833143216936",
         "-0.5066453906509701",
         "0.5279609539286123",
         "-0.7330365332525867",
         "-0.48910639363848835",
         "-0.9968207853790051",
         "-1.2515212819259418",
         "0.9934116929777103",
         "0.992942748798237"
        ],
        [
         "36",
         "0.29650707742515076",
         "-1.2279133760679406",
         "-0.9828712961763865",
         "1.2447418092817124",
         "0.2087427693951265",
         "-0.6230259589362015",
         "-0.9775264647255368",
         "-1.074103776136385",
         "-1.0966803405672674",
         "-1.0066320006789347",
         "-1.0071074099793815"
        ],
        [
         "37",
         "1.4764074813452435",
         "1.0675943015848008",
         "1.3568425566277345",
         "-0.8569228306375066",
         "-1.4627997241620356",
         "-0.15155206900883647",
         "-1.070558859218308",
         "0.18450493048380126",
         "0.6685063909216191",
         "0.9934116929777103",
         "0.992942748798237"
        ],
        [
         "38",
         "1.4764074813452435",
         "-0.5105672268014588",
         "-0.8157488781189492",
         "0.8944643692951759",
         "1.3347123657496038",
         "-0.05725729102336349",
         "-0.8379778729863802",
         "-0.5552036953368344",
         "-0.6321575164912447",
         "0.9934116929777103",
         "-1.0071074099793815"
        ],
        [
         "39",
         "0.29650707742515076",
         "-1.2637806835312646",
         "-1.1054277360851739",
         "-0.8569228306375066",
         "-1.439583856195964",
         "-1.141647237856303",
         "-1.093816957841501",
         "-1.0409824943832222",
         "-1.2515212819259418",
         "-1.0066320006789347",
         "0.992942748798237"
        ],
        [
         "40",
         "-0.8833933264949418",
         "0.9958596866581527",
         "0.3429665537459487",
         "-1.5574777106105797",
         "0.6498442607504887",
         "0.19419545027123117",
         "1.4645738907097057",
         "0.7365262930365145",
         "1.2569019680845812",
         "0.9934116929777103",
         "-1.0071074099793815"
        ],
        [
         "41",
         "-0.29344312453489557",
         "1.4621346836813658",
         "1.1005881822729973",
         "0.8944643692951759",
         "1.2882806298174603",
         "2.347259547606198",
         "1.6738967783184409",
         "1.7632860273845612",
         "0.0801108137586569",
         "-1.0066320006789347",
         "-1.0071074099793815"
        ],
        [
         "42",
         "0.29650707742515076",
         "-1.2996479909945888",
         "-1.294833143216936",
         "-0.8569228306375066",
         "-0.34843806179059417",
         "-1.1259314415253907",
         "-0.7914616757399946",
         "-1.2286697576511447",
         "-1.2824894701976766",
         "0.9934116929777103",
         "-1.0071074099793815"
        ],
        [
         "43",
         "-0.29344312453489557",
         "-1.5148518357745333",
         "-1.4173895831257233",
         "0.1939094893221029",
         "-1.4976235261111432",
         "-0.8116155149071475",
         "-0.8379778729863802",
         "-1.4605187299232842",
         "-1.2824894701976766",
         "0.9934116929777103",
         "0.992942748798237"
        ],
        [
         "44",
         "1.4764074813452435",
         "0.5295846896349397",
         "-0.1806836895006879",
         "1.2447418092817124",
         "1.085141785114333",
         "1.702911898038799",
         "-1.070558859218308",
         "0.12930279422852994",
         "0.1420471903021266",
         "0.9934116929777103",
         "-1.0071074099793815"
        ],
        [
         "45",
         "0.886457279385197",
         "1.0675943015848008",
         "1.4236915238507093",
         "0.8944643692951759",
         "-1.5614671630178403",
         "0.8856904888313665",
         "0.3249270581732592",
         "0.7034050112833518",
         "1.8452975452475435",
         "0.9934116929777103",
         "-1.0071074099793815"
        ],
        [
         "46",
         "0.29650707742515076",
         "-0.29536338202151435",
         "-0.04698575505473812",
         "-0.8569228306375066",
         "0.45831335003039725",
         "-0.7801839222453231",
         "0.4644756499124159",
         "-0.69872924960054",
         "-0.012793751056547654",
         "-1.0066320006789347",
         "0.992942748798237"
        ],
        [
         "47",
         "-0.8833933264949418",
         "-0.044292229778245734",
         "0.45438149911757353",
         "0.5441869293086394",
         "0.4467054160473614",
         "-0.3087100323179581",
         "0.9761538196226572",
         "0.2949092029943439",
         "0.48269726129121",
         "0.9934116929777103",
         "0.992942748798237"
        ],
        [
         "48",
         "0.29650707742515076",
         "0.17091161500169877",
         "0.6103624226378482",
         "0.1939094893221029",
         "0.19713483541209068",
         "-1.0316366635399177",
         "0.8598633265066933",
         "0.38323262100277805",
         "1.0091564619107025",
         "-1.0066320006789347",
         "-1.0071074099793815"
        ],
        [
         "49",
         "-0.8833933264949418",
         "1.6056039135346623",
         "0.45438149911757353",
         "0.8944643692951759",
         "0.35964591117459255",
         "-1.141647237856303",
         "1.3017672003473562",
         "2.5029946532051968",
         "2.0930430514214224",
         "-1.0066320006789347",
         "0.992942748798237"
        ]
       ],
       "shape": {
        "columns": 11,
        "rows": 4236
       }
      },
      "text/html": [
       "<div>\n",
       "<style scoped>\n",
       "    .dataframe tbody tr th:only-of-type {\n",
       "        vertical-align: middle;\n",
       "    }\n",
       "\n",
       "    .dataframe tbody tr th {\n",
       "        vertical-align: top;\n",
       "    }\n",
       "\n",
       "    .dataframe thead th {\n",
       "        text-align: right;\n",
       "    }\n",
       "</style>\n",
       "<table border=\"1\" class=\"dataframe\">\n",
       "  <thead>\n",
       "    <tr style=\"text-align: right;\">\n",
       "      <th></th>\n",
       "      <th>no_of_dependents</th>\n",
       "      <th>income_annum</th>\n",
       "      <th>loan_amount</th>\n",
       "      <th>loan_term</th>\n",
       "      <th>cibil_score</th>\n",
       "      <th>residential_assets_value</th>\n",
       "      <th>commercial_assets_value</th>\n",
       "      <th>luxury_assets_value</th>\n",
       "      <th>bank_asset_value</th>\n",
       "      <th>education_enocoded</th>\n",
       "      <th>self_employed_encoded</th>\n",
       "    </tr>\n",
       "  </thead>\n",
       "  <tbody>\n",
       "    <tr>\n",
       "      <th>0</th>\n",
       "      <td>-0.293443</td>\n",
       "      <td>1.641471</td>\n",
       "      <td>1.657663</td>\n",
       "      <td>0.193909</td>\n",
       "      <td>1.032906</td>\n",
       "      <td>-0.780184</td>\n",
       "      <td>2.953092</td>\n",
       "      <td>0.846931</td>\n",
       "      <td>0.947220</td>\n",
       "      <td>0.993412</td>\n",
       "      <td>-1.007107</td>\n",
       "    </tr>\n",
       "    <tr>\n",
       "      <th>1</th>\n",
       "      <td>-1.473344</td>\n",
       "      <td>-0.331231</td>\n",
       "      <td>-0.314382</td>\n",
       "      <td>-0.506645</td>\n",
       "      <td>-1.062326</td>\n",
       "      <td>-0.733037</td>\n",
       "      <td>-0.628655</td>\n",
       "      <td>-0.687689</td>\n",
       "      <td>-0.508285</td>\n",
       "      <td>-1.006632</td>\n",
       "      <td>0.992943</td>\n",
       "    </tr>\n",
       "    <tr>\n",
       "      <th>2</th>\n",
       "      <td>0.296507</td>\n",
       "      <td>1.462135</td>\n",
       "      <td>1.635380</td>\n",
       "      <td>1.595019</td>\n",
       "      <td>-0.545773</td>\n",
       "      <td>-0.041541</td>\n",
       "      <td>-0.093719</td>\n",
       "      <td>2.017216</td>\n",
       "      <td>2.433693</td>\n",
       "      <td>0.993412</td>\n",
       "      <td>-1.007107</td>\n",
       "    </tr>\n",
       "    <tr>\n",
       "      <th>3</th>\n",
       "      <td>0.296507</td>\n",
       "      <td>1.139329</td>\n",
       "      <td>1.746795</td>\n",
       "      <td>-0.506645</td>\n",
       "      <td>-0.772128</td>\n",
       "      <td>1.702912</td>\n",
       "      <td>-0.372816</td>\n",
       "      <td>0.913173</td>\n",
       "      <td>0.916252</td>\n",
       "      <td>0.993412</td>\n",
       "      <td>-1.007107</td>\n",
       "    </tr>\n",
       "    <tr>\n",
       "      <th>4</th>\n",
       "      <td>1.476407</td>\n",
       "      <td>1.713206</td>\n",
       "      <td>1.022598</td>\n",
       "      <td>1.595019</td>\n",
       "      <td>-1.265465</td>\n",
       "      <td>0.791396</td>\n",
       "      <td>0.766831</td>\n",
       "      <td>1.586639</td>\n",
       "      <td>0.018174</td>\n",
       "      <td>-1.006632</td>\n",
       "      <td>0.992943</td>\n",
       "    </tr>\n",
       "    <tr>\n",
       "      <th>...</th>\n",
       "      <td>...</td>\n",
       "      <td>...</td>\n",
       "      <td>...</td>\n",
       "      <td>...</td>\n",
       "      <td>...</td>\n",
       "      <td>...</td>\n",
       "      <td>...</td>\n",
       "      <td>...</td>\n",
       "      <td>...</td>\n",
       "      <td>...</td>\n",
       "      <td>...</td>\n",
       "    </tr>\n",
       "    <tr>\n",
       "      <th>4231</th>\n",
       "      <td>1.476407</td>\n",
       "      <td>-1.443117</td>\n",
       "      <td>-1.417390</td>\n",
       "      <td>0.193909</td>\n",
       "      <td>-1.642723</td>\n",
       "      <td>-0.717321</td>\n",
       "      <td>-1.024043</td>\n",
       "      <td>-1.294912</td>\n",
       "      <td>-1.282489</td>\n",
       "      <td>0.993412</td>\n",
       "      <td>0.992943</td>\n",
       "    </tr>\n",
       "    <tr>\n",
       "      <th>4232</th>\n",
       "      <td>-1.473344</td>\n",
       "      <td>-0.618169</td>\n",
       "      <td>-0.414655</td>\n",
       "      <td>1.595019</td>\n",
       "      <td>-0.238163</td>\n",
       "      <td>-0.497300</td>\n",
       "      <td>-0.465848</td>\n",
       "      <td>-0.444799</td>\n",
       "      <td>-0.941839</td>\n",
       "      <td>-1.006632</td>\n",
       "      <td>0.992943</td>\n",
       "    </tr>\n",
       "    <tr>\n",
       "      <th>4233</th>\n",
       "      <td>-0.293443</td>\n",
       "      <td>0.529585</td>\n",
       "      <td>0.989173</td>\n",
       "      <td>1.244742</td>\n",
       "      <td>-0.830167</td>\n",
       "      <td>-0.968773</td>\n",
       "      <td>1.743671</td>\n",
       "      <td>0.339071</td>\n",
       "      <td>0.730443</td>\n",
       "      <td>-1.006632</td>\n",
       "      <td>-1.007107</td>\n",
       "    </tr>\n",
       "    <tr>\n",
       "      <th>4234</th>\n",
       "      <td>-0.883393</td>\n",
       "      <td>-0.331231</td>\n",
       "      <td>-0.247533</td>\n",
       "      <td>-0.506645</td>\n",
       "      <td>1.044514</td>\n",
       "      <td>0.131332</td>\n",
       "      <td>-0.977526</td>\n",
       "      <td>-0.102546</td>\n",
       "      <td>0.265920</td>\n",
       "      <td>-1.006632</td>\n",
       "      <td>-1.007107</td>\n",
       "    </tr>\n",
       "    <tr>\n",
       "      <th>4235</th>\n",
       "      <td>-0.883393</td>\n",
       "      <td>1.498002</td>\n",
       "      <td>1.635380</td>\n",
       "      <td>-0.156368</td>\n",
       "      <td>0.040428</td>\n",
       "      <td>1.640049</td>\n",
       "      <td>1.604122</td>\n",
       "      <td>2.282186</td>\n",
       "      <td>2.185948</td>\n",
       "      <td>0.993412</td>\n",
       "      <td>-1.007107</td>\n",
       "    </tr>\n",
       "  </tbody>\n",
       "</table>\n",
       "<p>4236 rows × 11 columns</p>\n",
       "</div>"
      ],
      "text/plain": [
       "      no_of_dependents  income_annum  loan_amount  loan_term  cibil_score  \\\n",
       "0            -0.293443      1.641471     1.657663   0.193909     1.032906   \n",
       "1            -1.473344     -0.331231    -0.314382  -0.506645    -1.062326   \n",
       "2             0.296507      1.462135     1.635380   1.595019    -0.545773   \n",
       "3             0.296507      1.139329     1.746795  -0.506645    -0.772128   \n",
       "4             1.476407      1.713206     1.022598   1.595019    -1.265465   \n",
       "...                ...           ...          ...        ...          ...   \n",
       "4231          1.476407     -1.443117    -1.417390   0.193909    -1.642723   \n",
       "4232         -1.473344     -0.618169    -0.414655   1.595019    -0.238163   \n",
       "4233         -0.293443      0.529585     0.989173   1.244742    -0.830167   \n",
       "4234         -0.883393     -0.331231    -0.247533  -0.506645     1.044514   \n",
       "4235         -0.883393      1.498002     1.635380  -0.156368     0.040428   \n",
       "\n",
       "      residential_assets_value  commercial_assets_value  luxury_assets_value  \\\n",
       "0                    -0.780184                 2.953092             0.846931   \n",
       "1                    -0.733037                -0.628655            -0.687689   \n",
       "2                    -0.041541                -0.093719             2.017216   \n",
       "3                     1.702912                -0.372816             0.913173   \n",
       "4                     0.791396                 0.766831             1.586639   \n",
       "...                        ...                      ...                  ...   \n",
       "4231                 -0.717321                -1.024043            -1.294912   \n",
       "4232                 -0.497300                -0.465848            -0.444799   \n",
       "4233                 -0.968773                 1.743671             0.339071   \n",
       "4234                  0.131332                -0.977526            -0.102546   \n",
       "4235                  1.640049                 1.604122             2.282186   \n",
       "\n",
       "      bank_asset_value  education_enocoded  self_employed_encoded  \n",
       "0             0.947220            0.993412              -1.007107  \n",
       "1            -0.508285           -1.006632               0.992943  \n",
       "2             2.433693            0.993412              -1.007107  \n",
       "3             0.916252            0.993412              -1.007107  \n",
       "4             0.018174           -1.006632               0.992943  \n",
       "...                ...                 ...                    ...  \n",
       "4231         -1.282489            0.993412               0.992943  \n",
       "4232         -0.941839           -1.006632               0.992943  \n",
       "4233          0.730443           -1.006632              -1.007107  \n",
       "4234          0.265920           -1.006632              -1.007107  \n",
       "4235          2.185948            0.993412              -1.007107  \n",
       "\n",
       "[4236 rows x 11 columns]"
      ]
     },
     "execution_count": 27,
     "metadata": {},
     "output_type": "execute_result"
    }
   ],
   "source": [
    "X_scaled"
   ]
  },
  {
   "cell_type": "markdown",
   "id": "cf5fe9b9",
   "metadata": {},
   "source": [
    "## Train Test Split"
   ]
  },
  {
   "cell_type": "code",
   "execution_count": 28,
   "id": "154b7f3b",
   "metadata": {},
   "outputs": [],
   "source": [
    "X_train, X_test, y_train, y_test = train_test_split(X_scaled, y, test_size=0.2, random_state=42)"
   ]
  },
  {
   "cell_type": "markdown",
   "id": "6d7582fd",
   "metadata": {},
   "source": [
    "## Applying SMOTE to handle class Imbalance\n",
    "\n",
    "The importance of addressing class imbalance lies in ensuring that the model doesn't favor the majority class, leading to biased predictions and poor performance on the minority class. Imbalanced data can result in lower accuracy, precision, recall, and F1-score for the minority class, which is often the class of interest.SMOTE offers several benefits. Firstly, it enhances the generalization of the model, allowing it to make better predictions on unseen data. Secondly, it reduces the risk of false negatives and false positives, as the model is less likely to overlook the minority class. Thirdly, it improves the stability and reliability of the model's performance across different evaluation metrics. Additionally, SMOTE is relatively easy to implement and works well with a variety of machine learning algorithms."
   ]
  },
  {
   "cell_type": "code",
   "execution_count": 29,
   "id": "95d754d2",
   "metadata": {},
   "outputs": [],
   "source": [
    "smote = SMOTE(random_state=42)\n",
    "X_train_resampled, y_train_resampled = smote.fit_resample(X_train, y_train)"
   ]
  },
  {
   "cell_type": "markdown",
   "id": "545df17c",
   "metadata": {},
   "source": [
    "## Class Balance After SMOTE"
   ]
  },
  {
   "cell_type": "code",
   "execution_count": 30,
   "id": "bca7fadb",
   "metadata": {},
   "outputs": [
    {
     "data": {
      "image/png": "[encoded data removed]",
      "text/plain": [
       "<Figure size 640x480 with 1 Axes>"
      ]
     },
     "metadata": {},
     "output_type": "display_data"
    }
   ],
   "source": [
    "plt.subplot(1, 2, 2)\n",
    "sns.countplot(x=y_train_resampled) \n",
    "plt.title('Class Distribution After CSMOTE')\n",
    "plt.show()"
   ]
  },
  {
   "cell_type": "markdown",
   "id": "92dd5ba1",
   "metadata": {},
   "source": [
    "## Inferences after SMOTE\n",
    "\n",
    "From the above plot we can see that both the target classes are balanced after using SMOTE. This will now allow the model to learn the patterns correctly associated to each class and hence it will mitigate the problem of bias"
   ]
  },
  {
   "cell_type": "code",
   "execution_count": 31,
   "id": "444a32b0",
   "metadata": {},
   "outputs": [
    {
     "data": {
      "text/plain": [
       "loan_status_encoded\n",
       "1    2123\n",
       "0    2123\n",
       "Name: count, dtype: int64"
      ]
     },
     "execution_count": 31,
     "metadata": {},
     "output_type": "execute_result"
    }
   ],
   "source": [
    "y_train_resampled.value_counts()"
   ]
  },
  {
   "cell_type": "markdown",
   "id": "3ed501ff",
   "metadata": {},
   "source": [
    "## Random Forest Using Best Parameters"
   ]
  },
  {
   "cell_type": "code",
   "execution_count": 32,
   "id": "2264a4b9",
   "metadata": {},
   "outputs": [
    {
     "name": "stdout",
     "output_type": "stream",
     "text": [
      "Top 5 features from Random Forest:\n",
      "Index(['cibil_score', 'loan_term', 'loan_amount', 'luxury_assets_value',\n",
      "       'income_annum'],\n",
      "      dtype='object')\n"
     ]
    },
    {
     "data": {
      "image/png": "[encoded data removed]",
      "text/plain": [
       "<Figure size 1000x600 with 1 Axes>"
      ]
     },
     "metadata": {},
     "output_type": "display_data"
    }
   ],
   "source": [
    "from scipy.stats import randint\n",
    "from sklearn.model_selection import RandomizedSearchCV\n",
    "# Instantiating the Random Forest classifier\n",
    "classifier_rf = RandomForestClassifier(random_state=42)\n",
    "\n",
    "# Training the model to get feature importances\n",
    "classifier_rf.fit(X_train_resampled, y_train_resampled)\n",
    "\n",
    "# Getting feature importances\n",
    "feature_importances_rf = classifier_rf.feature_importances_\n",
    "\n",
    "# Identifiying top k important features\n",
    "k = 5\n",
    "top_k_features_rf = X_train_resampled.columns[np.argsort(feature_importances_rf)[::-1][:k]]\n",
    "\n",
    "print(\"Top {} features from Random Forest:\".format(k))\n",
    "print(top_k_features_rf)\n",
    "\n",
    "plt.figure(figsize=(10, 6))\n",
    "plt.barh(X_train_resampled.columns, feature_importances_rf)\n",
    "plt.xlabel('Feature Importance')\n",
    "plt.ylabel('Feature')\n",
    "plt.title('Feature Importances - Random Forest')\n",
    "plt.show()"
   ]
  },
  {
   "cell_type": "code",
   "execution_count": 33,
   "id": "cb39b627",
   "metadata": {},
   "outputs": [],
   "source": [
    "# Using only the top k features for training and testing\n",
    "X_train_selected_rf = X_train_resampled[top_k_features_rf]\n",
    "\n",
    "# Define hyperparameter grid for RandomizedSearchCV\n",
    "param_dist = {\n",
    "    'n_estimators': randint(50, 200),\n",
    "    'max_depth': [None] + list(range(5, 30)),\n",
    "    'min_samples_split': randint(2, 20),\n",
    "    'min_samples_leaf': randint(1, 20),\n",
    "    'bootstrap': [True, False],\n",
    "    'criterion': ['gini', 'entropy']\n",
    "}\n",
    "# Instantiating RandomizedSearchCV\n",
    "random_search = RandomizedSearchCV(classifier_rf, param_distributions=param_dist, n_iter=10, cv=5, random_state=42, n_jobs=-1)\n",
    "\n",
    "# Fitting RandomizedSearchCV on the selected features\n",
    "random_search.fit(X_train_selected_rf, y_train_resampled)\n",
    "\n",
    "# Getting the best model\n",
    "best_rf_model = random_search.best_estimator_\n",
    "\n",
    "# Making predictions on the test set using the best model\n",
    "X_test_selected_rf = X_test[top_k_features_rf]"
   ]
  },
  {
   "cell_type": "code",
   "execution_count": 34,
   "id": "7f82c98f",
   "metadata": {},
   "outputs": [
    {
     "name": "stdout",
     "output_type": "stream",
     "text": [
      "----------------------------------\n",
      "Best Parameters: {'bootstrap': False, 'criterion': 'entropy', 'max_depth': 28, 'min_samples_leaf': 3, 'min_samples_split': 6, 'n_estimators': 100}\n",
      "-----------------------------------\n",
      "Confusion Matrix \n",
      " [[324  11]\n",
      " [  8 505]]\n",
      "Model Accuracy: 0.9775943396226415\n",
      "Precsion 0.9786821705426356\n",
      "Recall 0.9844054580896686\n",
      "F1 Score 0.9815354713313897\n",
      "---------------------------------------------------------------------------------------------------------------\n",
      "Cross Validation\n",
      "[0.97647059 0.97647059 0.98117647 0.97411765 0.98823529 0.98588235\n",
      " 0.99292453 0.98820755 0.98113208 0.98113208]\n",
      "----------------------------------------------------------------------------------------------------------------\n",
      "Average Cross Validation Score of RandomForest Model with best features  0.9825749167591565\n",
      "-----------------------------------------------------------------------------------------------------------------\n"
     ]
    }
   ],
   "source": [
    "y_pred_rf = best_rf_model.predict(X_test_selected_rf)\n",
    "\n",
    "\n",
    "# Calculating the accuracy of the model\n",
    "cm_rf = confusion_matrix(y_test,y_pred_rf)\n",
    "accuracy = accuracy_score(y_test, y_pred_rf)\n",
    "precision = precision_score(y_test, y_pred_rf)\n",
    "recall = recall_score(y_test, y_pred_rf)\n",
    "F1_Score = f1_score(y_test,y_pred_rf)\n",
    "\n",
    "print(\"----------------------------------\")\n",
    "best_params = random_search.best_params_\n",
    "\n",
    "\n",
    "print(\"Best Parameters:\", best_params)\n",
    "print(\"-----------------------------------\")\n",
    "print(\"Confusion Matrix \\n\",cm_rf)\n",
    "print(\"Model Accuracy:\", accuracy)\n",
    "print(\"Precsion\",precision)\n",
    "print(\"Recall\",recall)\n",
    "print(\"F1 Score\",F1_Score)\n",
    "\n",
    "print(\"---------------------------------------------------------------------------------------------------------------\")\n",
    "\n",
    "print(\"Cross Validation\")\n",
    "scores = cross_val_score(best_rf_model, X_train_selected_rf, y_train_resampled, cv=10, scoring='accuracy')\n",
    "print(scores)\n",
    "print(\"----------------------------------------------------------------------------------------------------------------\")\n",
    "print(\"Average Cross Validation Score of RandomForest Model with best features \",scores.mean())\n",
    "print(\"-----------------------------------------------------------------------------------------------------------------\")"
   ]
  },
  {
   "cell_type": "markdown",
   "id": "39b4e172",
   "metadata": {},
   "source": [
    "## My inferences on The Random Forest Classifier Model using Feature Importance and Randomized Search CV\n",
    "\n",
    "<b>Reason to Choose Random Forest</b>\n",
    "\n",
    "Random Forest was chosen due to its ability to handle complex relationships in the loan approval dataset, mitigating overfitting, and capturing important feature interactions. Its ensemble nature, combining multiple decision trees, makes it robust and well-suited for classification tasks like loan approval.\n",
    "\n",
    "<b>Feature Selection Using Random Forest:</b>\n",
    "\n",
    "Feature selection was performed using Random Forest's feature importances. The top 5 important features selected are 'cibil_score', 'loan_term', 'loan_amount', 'income_annum', and 'luxury_assets_value'. These features were deemed crucial for making accurate loan approval predictions.Each individual decision tree in the ensemble is built using a subset of the data and a random subset of features. When the trees are aggregated to make predictions, the algorithm calculates the importance of each feature based on how much it contributes to reducing impurity (Gini impurity) across all the trees.\n",
    "\n",
    "<b>Feature Importance Plot:</b>\n",
    "\n",
    "A feature importance plot was generated to visualize the impact of each feature on the model's prediction. This helped identify the relative significance of features in making accurate predictions.\n",
    "\n",
    "<b>Best Parameters for Randomized Search CV:</b>\n",
    "\n",
    "Randomized Search CV was used to find the best hyperparameters for the Random Forest model. The best parameters found were {'bootstrap': False, 'criterion': 'entropy', 'max_depth': 28, 'min_samples_leaf': 3, 'min_samples_split': 6, 'n_estimators': 100}.\n",
    "\n",
    "<b>Model Performance Metrics: </b>\n",
    "\n",
    "The model's performance was evaluated using various metrics. The confusion matrix showed that the model achieved high accuracy and balanced precision and recall. With an accuracy of 0.9847, the model accurately classified 98.47% of instances.\n",
    "\n",
    "<b>Cross Validation:</b>\n",
    "\n",
    "From the above cross validation scores on 10 folds we can clearly observe that the model is performing consitingly well on all the 10 folds. It means that the model has good generalization abilities and it is cabaple enogh of predicting the new instances accurately\n",
    "\n",
    "Cross-validation scores on 10 folds indicated consistent performance across different subsets of the data. The model demonstrated an average cross-validation score of 0.9827, indicating its reliability and stability.\n",
    "\n",
    "<b> Confusion Matrix </b>\n",
    "\n",
    "True Positive (TP): 523\n",
    "\n",
    "The model correctly predicted 523 instances as \"Approved\" loans.\n",
    "True Negative (TN): 311\n",
    "\n",
    "The model correctly predicted 311 instances as \"Rejected\" loans.\n",
    "False Positive (FP): 4\n",
    "\n",
    "The model incorrectly predicted 4 instances as \"Approved\" when they were actually \"Rejected\" loans.\n",
    "False Negative (FN): 9\n",
    "\n",
    "The model incorrectly predicted 9 instances as \"Rejected\" when they were actually \"Approved\" loans.\n",
    "\n",
    "<b> Precision </b>\n",
    "\n",
    "precision is calculated as TP / (TP + FP), which is 523 / (523 + 4) = 0.9924. This means that when the model predicts a loan as \"Approved,\" it is correct 99.24% of the time.\n",
    "\n",
    "<b> Recall </b>\n",
    "\n",
    "Recall is calculated as TP / (TP + FN), which is 523 / (523 + 9) = 0.9831. This means the model correctly identifies 98.31% of the \"Approved\" loans.\n",
    " \n",
    "<b> F1 SCore </b> \n",
    "\n",
    "F1 Score is calculated as 2 * (Precision * Recall) / (Precision + Recall). In this case, the F1 score is approximately 0.9877, indicating a good balance between precision and recall.\n",
    "\n",
    "<b> Conclusion:</b>\n",
    "The Random Forest model has proven effective in predicting loan approval decisions. Its feature selection, optimized hyperparameters, and strong performance metrics make it a reliable choice for this application. The model's ability to generalize well, as demonstrated by cross-validation, underscores its robustness in making accurate loan approval predictions"
   ]
  },
  {
   "cell_type": "markdown",
   "id": "c1e56636",
   "metadata": {},
   "source": [
    "## ROC Curve (Random Forest Classifier)"
   ]
  },
  {
   "cell_type": "code",
   "execution_count": 35,
   "id": "a4a41adb",
   "metadata": {},
   "outputs": [
    {
     "data": {
      "image/png": "[encoded data removed]",
      "text/plain": [
       "<Figure size 1000x800 with 1 Axes>"
      ]
     },
     "metadata": {},
     "output_type": "display_data"
    }
   ],
   "source": [
    "from sklearn.metrics import roc_curve, roc_auc_score\n",
    "import matplotlib.pyplot as plt\n",
    "\n",
    "\n",
    "# Getting predicted probabilities for the positive class (class 1)\n",
    "y_pred_prob = best_rf_model.predict_proba(X_test_selected_rf)[:, 1]\n",
    "\n",
    "# Calculating ROC curve and AUC\n",
    "fpr, tpr, thresholds = roc_curve(y_test, y_pred_prob)\n",
    "roc_auc = roc_auc_score(y_test, y_pred_prob)\n",
    "\n",
    "# Creating a ROC curve plot\n",
    "plt.figure(figsize=(10, 8))\n",
    "plt.plot(fpr, tpr, color='orange', lw=2, label='ROC Curve (AUC = {:.2f})'.format(roc_auc))\n",
    "plt.plot([0,1],[0,1],color = \"blue\",linestyle =\"--\",label = \"Guessing\")\n",
    "plt.xlim([0.0, 1.0])\n",
    "plt.ylim([0.0, 1.05])\n",
    "plt.xlabel('False Positive Rate', fontsize=12)\n",
    "plt.ylabel('True Positive Rate', fontsize=12)\n",
    "plt.title('Receiver Operating Characteristic (ROC) Curve', fontsize=14)\n",
    "plt.legend(loc=\"lower right\", fontsize=12)\n",
    "plt.grid(True)\n",
    "plt.show()"
   ]
  },
  {
   "cell_type": "markdown",
   "id": "7e54ea79",
   "metadata": {},
   "source": [
    "# \"OptimizedGBM\" "
   ]
  },
  {
   "cell_type": "code",
   "execution_count": 36,
   "id": "fb3a8ac0",
   "metadata": {
    "scrolled": true
   },
   "outputs": [
    {
     "name": "stdout",
     "output_type": "stream",
     "text": [
      "Feature Importances from Gradient Boosting:\n",
      "[1.03349330e-03 3.56706270e-03 1.65956975e-02 6.41640656e-02\n",
      " 9.06618066e-01 2.06257647e-03 2.30206971e-03 2.88353010e-03\n",
      " 6.60693438e-04 2.84286466e-05 8.43164926e-05]\n",
      "-------------------------------------------------------------------------------------------------\n",
      "Top 5 features from Gradient Boosting:\n",
      "Index(['cibil_score', 'loan_term', 'loan_amount', 'income_annum',\n",
      "       'luxury_assets_value'],\n",
      "      dtype='object')\n",
      "------------------------------------------------------------------------------------------------\n"
     ]
    },
    {
     "data": {
      "image/png": "[encoded data removed]",
      "text/plain": [
       "<Figure size 1000x600 with 1 Axes>"
      ]
     },
     "metadata": {},
     "output_type": "display_data"
    }
   ],
   "source": [
    "# Instantiating the Gradient Boosting classifier\n",
    "gb_classifier = GradientBoostingClassifier(random_state=42)\n",
    "\n",
    "# Fitting the classifier on the training data\n",
    "gb_classifier.fit(X_train_resampled, y_train_resampled)\n",
    "\n",
    "# Getting the feature importances from Gradient Boosting\n",
    "feature_importances_gb = gb_classifier.feature_importances_\n",
    "\n",
    "# Printing the feature importances\n",
    "print(\"Feature Importances from Gradient Boosting:\")\n",
    "print(feature_importances_gb)\n",
    "print(\"-------------------------------------------------------------------------------------------------\")\n",
    "# Training the model using the top-k important features\n",
    "k = 5 \n",
    "top_k_features_gb = X_train_resampled.columns[np.argsort(feature_importances_gb)[::-1][:k]]\n",
    "\n",
    "print(\"Top {} features from Gradient Boosting:\".format(k))\n",
    "print(top_k_features_gb)\n",
    "print(\"------------------------------------------------------------------------------------------------\")\n",
    "\n",
    "plt.figure(figsize=(10, 6))\n",
    "plt.barh(X_train_resampled.columns, feature_importances_gb)\n",
    "plt.xlabel('Feature Importance')\n",
    "plt.ylabel('Feature')\n",
    "plt.title('Feature Importances - Gradient Boosting')\n",
    "plt.show()"
   ]
  },
  {
   "cell_type": "code",
   "execution_count": 37,
   "id": "75f2594b",
   "metadata": {},
   "outputs": [
    {
     "name": "stdout",
     "output_type": "stream",
     "text": [
      "[[325  10]\n",
      " [  8 505]]\n",
      "--------------------------------------------\n",
      "Best Estimators GradientBoostingClassifier(max_depth=4, min_samples_leaf=4, n_estimators=150,\n",
      "                           random_state=42)\n",
      "Model Accuracy: 0.9787735849056604\n",
      "Precision 0.9805825242718447\n",
      "Recall 0.9844054580896686\n",
      "F1 Score 0.9824902723735408\n",
      "-------------------------------------------------------------------------------------------------------\n",
      "Cross val scores on folds \n",
      " [0.97411765 0.97411765 0.99294118 0.98352941 0.99058824 0.99529412\n",
      " 0.99528302 0.99292453 0.98113208 0.99292453]\n",
      "--------------------------------------------------------------------------------------------------------\n",
      "The average cross validation accuracy of gradient boosting model with best parameters  0.9872852386237513\n"
     ]
    }
   ],
   "source": [
    "X_train_selected_gb = X_train_resampled[top_k_features_gb]\n",
    "\n",
    "\n",
    "# Defining hyperparameter grid for GridSearchCV\n",
    "param_grid = {\n",
    "    'n_estimators': [50, 100, 150],\n",
    "    'learning_rate': [0.1, 0.01, 0.001],\n",
    "    'max_depth': [3, 4, 5],\n",
    "    'min_samples_split': [2, 5, 10],\n",
    "    'min_samples_leaf': [1, 2, 4]\n",
    "}\n",
    "\n",
    "# Instantiating GridSearchCV\n",
    "grid_search = GridSearchCV(gb_classifier, param_grid=param_grid, cv=5, scoring='accuracy', n_jobs=-1)\n",
    "\n",
    "# Fitting GridSearchCV on the selected features and resampled training data\n",
    "grid_search.fit(X_train_selected_gb, y_train_resampled)\n",
    "\n",
    "# Getting the best model\n",
    "best_gb_model = grid_search.best_estimator_\n",
    "\n",
    "\n",
    "X_test_selected_gb = X_test[top_k_features_gb]\n",
    "\n",
    "# Making predictions on the test set using the best model and selected features\n",
    "y_pred_gb = best_gb_model.predict(X_test_selected_gb)\n",
    "\n",
    "\n",
    "# Calculating the accuracy of the model\n",
    "cm_gb = confusion_matrix(y_test,y_pred_gb)\n",
    "print(cm_gb)\n",
    "print(\"--------------------------------------------\")\n",
    "print(\"Best Estimators\",best_gb_model)\n",
    "accuracy = accuracy_score(y_test, y_pred_gb)\n",
    "precision = precision_score(y_test,y_pred_gb)\n",
    "recall = recall_score(y_test,y_pred_gb)\n",
    "F1_Score  = f1_score(y_test,y_pred_gb)\n",
    "print(\"Model Accuracy:\", accuracy)\n",
    "print(\"Precision\",precision)\n",
    "print(\"Recall\",recall)\n",
    "print(\"F1 Score\", F1_Score)\n",
    "\n",
    "print(\"-------------------------------------------------------------------------------------------------------\")\n",
    "scores_gb = cross_val_score(best_gb_model,X_train_selected_gb,y_train_resampled,cv = 10, scoring = \"accuracy\")\n",
    "print(\"Cross val scores on folds \\n\", scores_gb)\n",
    "print(\"--------------------------------------------------------------------------------------------------------\")\n",
    "print(\"The average cross validation accuracy of gradient boosting model with best parameters \" ,scores_gb.mean())"
   ]
  },
  {
   "cell_type": "code",
   "execution_count": 38,
   "id": "2ed74d6c",
   "metadata": {},
   "outputs": [
    {
     "name": "stdout",
     "output_type": "stream",
     "text": [
      "[0.97411765 0.97411765 0.99294118 0.98352941 0.99058824 0.99529412\n",
      " 0.99528302 0.99292453 0.98113208 0.99292453]\n",
      "The average cross validation accuracy of gradient boosting model with best parameters  0.9872852386237513\n"
     ]
    }
   ],
   "source": [
    "scores_gb = cross_val_score(best_gb_model,X_train_selected_gb,y_train_resampled,cv = 10, scoring = \"accuracy\")\n",
    "print(scores_gb)\n",
    "print(\"The average cross validation accuracy of gradient boosting model with best parameters \" ,scores_gb.mean())"
   ]
  },
  {
   "cell_type": "code",
   "execution_count": 39,
   "id": "92e52b45",
   "metadata": {},
   "outputs": [
    {
     "data": {
      "image/png": "[encoded data removed]",
      "text/plain": [
       "<Figure size 1000x800 with 1 Axes>"
      ]
     },
     "metadata": {},
     "output_type": "display_data"
    }
   ],
   "source": [
    "# Getting predicted probabilities for the positive class (class 1)\n",
    "y_pred_prob_gb = best_gb_model.predict_proba(X_test_selected_gb)[:, 1]\n",
    "\n",
    "# Calculating ROC curve and AUC\n",
    "fpr_gb, tpr_gb, thresholds_gb = roc_curve(y_test, y_pred_prob_gb)\n",
    "roc_auc_gb = roc_auc_score(y_test, y_pred_prob_gb)\n",
    "\n",
    "# Create  ROC curve plot\n",
    "plt.figure(figsize=(10, 8))\n",
    "plt.plot(fpr_gb, tpr_gb, color='orange', lw=2, label='ROC Curve (AUC = {:.2f})'.format(roc_auc))\n",
    "plt.plot([0,1],[0,1],color = \"blue\",linestyle =\"--\",label = \"Guessing\")\n",
    "plt.xlim([0.0, 1.0])\n",
    "plt.ylim([0.0, 1.05])\n",
    "plt.xlabel('False Positive Rate', fontsize=12)\n",
    "plt.ylabel('True Positive Rate', fontsize=12)\n",
    "plt.title('Receiver Operating Characteristic (ROC) Curve', fontsize=14)\n",
    "plt.legend(loc=\"lower right\", fontsize=12)\n",
    "plt.grid(True)\n",
    "plt.show()"
   ]
  },
  {
   "cell_type": "markdown",
   "id": "b97dc752",
   "metadata": {},
   "source": [
    "## My Inferences on XG Boost Classifier "
   ]
  },
  {
   "cell_type": "markdown",
   "id": "655f2851",
   "metadata": {},
   "source": [
    "<b>Reasons to select XGBoost:</b>\n",
    "\n",
    "The decision to implement XGBoost as the predictive model is from its suitability for complex classification tasks like loan approval prediction. XGBoost's ensemble of decision trees leverages gradient boosting to enhance accuracy, making it an ideal choice for discovering patterns and making robust predictions for Loan Approval\n",
    "\n",
    "<b>Feature Selection using XGBoost:</b>\n",
    "\n",
    "XGBoost's feature selection operates within its gradient boosting framework. The framework for gradient boosting is where XGBoost functions. XGBoost evaluates feature importance during training by examining their effect on increasing predictive accuracy. Metrics like gain and coverage, which measure a feature's contribution to model accuracy and frequency in splits, respectively, are used in this evaluation. The algorithm cycles over the trees, giving more weight to features that are consistently helpful and less weight to features that are less informative. XGBoost finds important characteristics for my loan approval prediction, including \"cibil_score,\" \"loan_term,\" \"loan_amount,\" \"income_annum,\" and \"residential_assets_value.\" Only essential features are taken into account thanks to this automated procedure, which improves the model's speed and interpretability.\n",
    "\n",
    "<b>Confusion Matrix and Model Performance:</b>\n",
    "\n",
    "True Positive (TP): 524\n",
    "The model correctly predicted 524 instances as \"Approved\" loans.\n",
    "\n",
    "True Negative (TN): 313\n",
    "The model correctly predicted 313 instances as \"Rejected\" loans.\n",
    "\n",
    "False Positive (FP): 2\n",
    "The model incorrectly predicted 2 instances as \"Approved\" when they were actually \"Rejected\" loans.\n",
    "\n",
    "False Negative (FN): 8\n",
    "The model incorrectly predicted 8 instances as \"Not Approved\" when they were actually \"Approved\" loans.\n",
    "\n",
    "<b> Accuracy </b>\n",
    "\n",
    "Model Accuracy: 0.9882\n",
    "The accuracy of the XGBoost model is 98.82%, which means it correctly predicts the loan approval status for a large majority of instances in the dataset.\n",
    "\n",
    "<b> Precision </b>\n",
    "\n",
    "TP / (TP + FP), which is 524 / (524 + 2) = 0.9962. This means that when the model predicts a loan as \"Approved,\" it is correct 99.62% of the time.\n",
    "\n",
    "<b> Recall </b>\n",
    "\n",
    "TP / (TP + FN), which is 524 / (524 + 8) = 0.9849. This means the model correctly identifies 98.49% of the \"Approved\" loans.\n",
    "\n",
    "<b> F1 Score </b>\n",
    "\n",
    " 2 * (Precision * Recall) / (Precision + Recall). In this case, the F1 score is approximately 0.9905, indicating a good balance between precision and recall.\n",
    " \n",
    " \n",
    "<b>Best Estimators and Metrics:</b>\n",
    "\n",
    "Grid search was used to find the best hyperparameters, which strengthened the model's performance. With'max_depth' set to 5,'min_samples_leaf' set to 4,'min_samples_split' set to 10, and 'n_estimators' set to 150, the model achieves a remarkable accuracy of over 98.8%. This accuracy also applies to individual metrics, where recall is steady at 98.5% while precision reaches 99.6%. The model's accuracy and recall balance are further illustrated by the harmonized F1 score.\n",
    "\n",
    "<b> Cross Validation and Robustness:</b>\n",
    "\n",
    "The model was rigorously validated using a 10-fold cross-validation method, demonstrating its capacity on  various data subsets. High accuracy across various subsets is consistent, which emphasizes how well the model generalizes. Its genuine predictive ability can be judged by its capacity to retain performance under many different subsets of data.From the above results the model performs consistently well and which enable us to know that it is a good perfomer and it can generalize well on the unseen data\n",
    "Moreover, the model has average cross validation accuracy of 98.69% on 10 folds\n",
    "\n",
    "<b>Average Cross Validation Accuracy:</b>\n",
    "\n",
    "In conclusion, the XGBoost model's commendable average cross-validation accuracy of approximately 98.7% solidifies its stature as a reliable tool. Its ability to balance accuracy, precision, recall, and overall robustness makes it an invaluable asset for making informed and confident lending decisions."
   ]
  },
  {
   "cell_type": "code",
   "execution_count": 40,
   "id": "47c1d137",
   "metadata": {},
   "outputs": [
    {
     "name": "stdout",
     "output_type": "stream",
     "text": [
      "\n",
      "✅ Shapes:\n",
      "X_train_resampled shape: (4246, 11)\n",
      "X_test shape: (848, 11)\n",
      "y_test shape: (848,)\n",
      "\n",
      "✅ X_train_resampled sample:\n",
      "   no_of_dependents  income_annum  loan_amount  loan_term  cibil_score  \\\n",
      "0          1.476407      1.713206     1.289994   0.193909     0.371254   \n",
      "1          0.296507      1.246931     1.757936   1.595019    -0.882403   \n",
      "2         -0.883393      1.211064     1.111730   0.193909     0.545373   \n",
      "3         -0.293443     -0.116027    -0.336665  -0.856923    -0.551577   \n",
      "4          0.296507      1.318665     1.791361   0.894464     0.928435   \n",
      "\n",
      "   residential_assets_value  commercial_assets_value  luxury_assets_value  \\\n",
      "0                 -0.340142                -0.465848             0.824850   \n",
      "1                  2.457270                -0.814720             0.869011   \n",
      "2                 -0.324426                 2.325124             0.880052   \n",
      "3                 -0.623026                -0.256525             0.328030   \n",
      "4                 -1.094500                -0.721687             0.471556   \n",
      "\n",
      "   bank_asset_value  education_enocoded  self_employed_encoded  \n",
      "0          2.836280           -1.006632              -1.007107  \n",
      "1          0.916252            0.993412               0.992943  \n",
      "2          0.854316            0.993412              -1.007107  \n",
      "3         -0.817967            0.993412               0.992943  \n",
      "4         -0.043762            0.993412              -1.007107  \n",
      "\n",
      "✅ X_test sample:\n",
      "      no_of_dependents  income_annum  loan_amount  loan_term  cibil_score  \\\n",
      "3188          0.886457     -1.694188    -1.539946   1.244742    -0.325222   \n",
      "764           1.476407     -1.335515    -1.138852  -1.207200    -1.474408   \n",
      "3264          1.476407      1.211064     1.880493  -0.156368     0.028820   \n",
      "1967          1.476407      0.816523     0.510089  -0.156368    -1.317701   \n",
      "2185          0.886457     -0.187761     0.031005  -0.156368     1.410164   \n",
      "\n",
      "      residential_assets_value  commercial_assets_value  luxury_assets_value  \\\n",
      "3188                 -1.047352                -1.117075            -1.570923   \n",
      "764                  -0.654458                -0.768204            -1.283872   \n",
      "3264                  1.812922                 1.255251             0.769648   \n",
      "1967                  0.477080                -0.047203             0.493637   \n",
      "2185                  0.917122                 0.464476            -0.466880   \n",
      "\n",
      "      bank_asset_value  education_enocoded  self_employed_encoded  \n",
      "3188         -1.499267            0.993412              -1.007107  \n",
      "764          -1.034744           -1.006632              -1.007107  \n",
      "3264          1.287870           -1.006632               0.992943  \n",
      "1967          1.752393            0.993412               0.992943  \n",
      "2185         -0.848935            0.993412              -1.007107  \n",
      "\n",
      "✅ y_test sample:\n",
      "3214    0\n",
      "769     1\n",
      "3291    1\n",
      "1985    0\n",
      "2204    1\n",
      "Name: loan_status_encoded, dtype: int64\n"
     ]
    }
   ],
   "source": [
    "import pandas as pd\n",
    "import numpy as np\n",
    "\n",
    "# Print shapes\n",
    "print(\"\\n✅ Shapes:\")\n",
    "print(\"X_train_resampled shape:\", X_train_resampled.shape)\n",
    "print(\"X_test shape:\", X_test.shape)\n",
    "print(\"y_test shape:\", y_test.shape)\n",
    "\n",
    "# Print sample values\n",
    "print(\"\\n✅ X_train_resampled sample:\")\n",
    "print(X_train_resampled.head())\n",
    "\n",
    "print(\"\\n✅ X_test sample:\")\n",
    "# Check if X_test is NumPy or DataFrame\n",
    "if isinstance(X_test, pd.DataFrame):\n",
    "    print(X_test.head())\n",
    "else:\n",
    "    print(X_test[:5])  # Print first 5 rows for NumPy array\n",
    "\n",
    "print(\"\\n✅ y_test sample:\")\n",
    "print(y_test[:5])\n"
   ]
  },
  {
   "cell_type": "code",
   "execution_count": 41,
   "id": "dfda1d30",
   "metadata": {},
   "outputs": [],
   "source": [
    "pca_ytest = y_test.copy()\n",
    "pca_xtest = X_test.copy()"
   ]
  },
  {
   "cell_type": "code",
   "execution_count": 42,
   "id": "af933778",
   "metadata": {},
   "outputs": [],
   "source": [
    "from sklearn.decomposition import PCA\n",
    "pca = PCA()\n",
    "X_pca = pca.fit_transform(X_train_resampled)"
   ]
  },
  {
   "cell_type": "code",
   "execution_count": 43,
   "id": "79295bfb",
   "metadata": {},
   "outputs": [
    {
     "data": {
      "image/png": "[encoded data removed]",
      "text/plain": [
       "<Figure size 640x480 with 1 Axes>"
      ]
     },
     "metadata": {},
     "output_type": "display_data"
    }
   ],
   "source": [
    "cumulative_var = np.cumsum(pca.explained_variance_ratio_)\n",
    "\n",
    "# Finding the number of componentsm that cover 95% of variance\n",
    "threshold_var = 0.95\n",
    "num_components_to_retain = np.argmax(cumulative_var >= threshold_var) + 1\n",
    "\n",
    "\n",
    "# Visualize the explained variance ratio for each principal component\n",
    "plt.bar(range(1, len(cumulative_var) + 1), cumulative_var)\n",
    "plt.plot(range(1, len(cumulative_var) + 1), cumulative_var, marker='o', color='b')\n",
    "plt.axvline(x=num_components_to_retain, color='r', linestyle='--')\n",
    "plt.xlabel('Number of Principal Components')\n",
    "plt.ylabel('Cumulative Explained Variance Ratio')\n",
    "plt.title('Cumulative Explained Variance Ratio by Number of Principal Components')\n",
    "plt.grid()\n",
    "plt.show()"
   ]
  },
  {
   "cell_type": "code",
   "execution_count": 44,
   "id": "6bf127f0",
   "metadata": {},
   "outputs": [
    {
     "data": {
      "image/png": "[encoded data removed]",
      "text/plain": [
       "<Figure size 1000x600 with 1 Axes>"
      ]
     },
     "metadata": {},
     "output_type": "display_data"
    }
   ],
   "source": [
    "plt.figure(figsize=(10, 6))\n",
    "explained_var = pca.explained_variance_ratio_\n",
    "number_of_components = len(explained_var)\n",
    "\n",
    "plt.bar(range(1, number_of_components + 1), explained_var)\n",
    "plt.xlabel('Principal Components')\n",
    "plt.ylabel('Explained Variance')\n",
    "plt.title('Explained Variance by Principal Component')\n",
    "plt.show()"
   ]
  },
  {
   "cell_type": "code",
   "execution_count": 45,
   "id": "992e4dc7",
   "metadata": {},
   "outputs": [],
   "source": [
    "pca = PCA(n_components=num_components_to_retain)\n",
    "X_pca = pca.fit_transform(X_train_resampled)"
   ]
  },
  {
   "cell_type": "code",
   "execution_count": 46,
   "id": "f8ecd515",
   "metadata": {},
   "outputs": [],
   "source": [
    "from sklearn.model_selection import train_test_split\n",
    "X_train,pca_xtest,y_train, pca_ytest = train_test_split(X_pca,y_train_resampled,test_size=0.2,random_state=42)"
   ]
  },
  {
   "cell_type": "markdown",
   "id": "4a665d72",
   "metadata": {},
   "source": [
    "# Neural Networks"
   ]
  },
  {
   "cell_type": "code",
   "execution_count": 47,
   "id": "a404f4ae",
   "metadata": {},
   "outputs": [
    {
     "name": "stdout",
     "output_type": "stream",
     "text": [
      "Epoch 1/30\n",
      "\u001b[1m107/107\u001b[0m \u001b[32m━━━━━━━━━━━━━━━━━━━━\u001b[0m\u001b[37m\u001b[0m \u001b[1m1s\u001b[0m 3ms/step - accuracy: 0.8540 - loss: 0.3681 - val_accuracy: 0.9565 - val_loss: 0.1805\n",
      "Epoch 2/30\n",
      "\u001b[1m107/107\u001b[0m \u001b[32m━━━━━━━━━━━━━━━━━━━━\u001b[0m\u001b[37m\u001b[0m \u001b[1m0s\u001b[0m 2ms/step - accuracy: 0.9368 - loss: 0.1901 - val_accuracy: 0.9459 - val_loss: 0.1622\n",
      "Epoch 3/30\n",
      "\u001b[1m107/107\u001b[0m \u001b[32m━━━━━━━━━━━━━━━━━━━━\u001b[0m\u001b[37m\u001b[0m \u001b[1m0s\u001b[0m 2ms/step - accuracy: 0.9456 - loss: 0.1635 - val_accuracy: 0.9635 - val_loss: 0.1427\n",
      "Epoch 4/30\n",
      "\u001b[1m107/107\u001b[0m \u001b[32m━━━━━━━━━━━━━━━━━━━━\u001b[0m\u001b[37m\u001b[0m \u001b[1m0s\u001b[0m 2ms/step - accuracy: 0.9561 - loss: 0.1359 - val_accuracy: 0.9647 - val_loss: 0.1315\n",
      "Epoch 5/30\n",
      "\u001b[1m107/107\u001b[0m \u001b[32m━━━━━━━━━━━━━━━━━━━━\u001b[0m\u001b[37m\u001b[0m \u001b[1m0s\u001b[0m 2ms/step - accuracy: 0.9488 - loss: 0.1414 - val_accuracy: 0.9588 - val_loss: 0.1375\n",
      "Epoch 6/30\n",
      "\u001b[1m107/107\u001b[0m \u001b[32m━━━━━━━━━━━━━━━━━━━━\u001b[0m\u001b[37m\u001b[0m \u001b[1m0s\u001b[0m 2ms/step - accuracy: 0.9523 - loss: 0.1304 - val_accuracy: 0.9600 - val_loss: 0.1210\n",
      "Epoch 7/30\n",
      "\u001b[1m107/107\u001b[0m \u001b[32m━━━━━━━━━━━━━━━━━━━━\u001b[0m\u001b[37m\u001b[0m \u001b[1m0s\u001b[0m 2ms/step - accuracy: 0.9583 - loss: 0.1057 - val_accuracy: 0.9635 - val_loss: 0.1132\n",
      "Epoch 8/30\n",
      "\u001b[1m107/107\u001b[0m \u001b[32m━━━━━━━━━━━━━━━━━━━━\u001b[0m\u001b[37m\u001b[0m \u001b[1m0s\u001b[0m 2ms/step - accuracy: 0.9610 - loss: 0.1015 - val_accuracy: 0.9612 - val_loss: 0.1151\n",
      "Epoch 9/30\n",
      "\u001b[1m107/107\u001b[0m \u001b[32m━━━━━━━━━━━━━━━━━━━━\u001b[0m\u001b[37m\u001b[0m \u001b[1m0s\u001b[0m 2ms/step - accuracy: 0.9654 - loss: 0.0969 - val_accuracy: 0.9600 - val_loss: 0.1154\n",
      "Epoch 10/30\n",
      "\u001b[1m107/107\u001b[0m \u001b[32m━━━━━━━━━━━━━━━━━━━━\u001b[0m\u001b[37m\u001b[0m \u001b[1m0s\u001b[0m 2ms/step - accuracy: 0.9643 - loss: 0.0987 - val_accuracy: 0.9682 - val_loss: 0.0990\n",
      "Epoch 11/30\n",
      "\u001b[1m107/107\u001b[0m \u001b[32m━━━━━━━━━━━━━━━━━━━━\u001b[0m\u001b[37m\u001b[0m \u001b[1m0s\u001b[0m 2ms/step - accuracy: 0.9651 - loss: 0.0887 - val_accuracy: 0.9647 - val_loss: 0.0957\n",
      "Epoch 12/30\n",
      "\u001b[1m107/107\u001b[0m \u001b[32m━━━━━━━━━━━━━━━━━━━━\u001b[0m\u001b[37m\u001b[0m \u001b[1m0s\u001b[0m 2ms/step - accuracy: 0.9612 - loss: 0.0969 - val_accuracy: 0.9635 - val_loss: 0.0951\n",
      "Epoch 13/30\n",
      "\u001b[1m107/107\u001b[0m \u001b[32m━━━━━━━━━━━━━━━━━━━━\u001b[0m\u001b[37m\u001b[0m \u001b[1m0s\u001b[0m 2ms/step - accuracy: 0.9702 - loss: 0.0817 - val_accuracy: 0.9659 - val_loss: 0.0917\n",
      "Epoch 14/30\n",
      "\u001b[1m107/107\u001b[0m \u001b[32m━━━━━━━━━━━━━━━━━━━━\u001b[0m\u001b[37m\u001b[0m \u001b[1m0s\u001b[0m 2ms/step - accuracy: 0.9703 - loss: 0.0736 - val_accuracy: 0.9553 - val_loss: 0.1055\n",
      "Epoch 15/30\n",
      "\u001b[1m107/107\u001b[0m \u001b[32m━━━━━━━━━━━━━━━━━━━━\u001b[0m\u001b[37m\u001b[0m \u001b[1m0s\u001b[0m 2ms/step - accuracy: 0.9699 - loss: 0.0716 - val_accuracy: 0.9635 - val_loss: 0.0877\n",
      "Epoch 16/30\n",
      "\u001b[1m107/107\u001b[0m \u001b[32m━━━━━━━━━━━━━━━━━━━━\u001b[0m\u001b[37m\u001b[0m \u001b[1m0s\u001b[0m 2ms/step - accuracy: 0.9727 - loss: 0.0696 - val_accuracy: 0.9624 - val_loss: 0.0948\n",
      "Epoch 17/30\n",
      "\u001b[1m107/107\u001b[0m \u001b[32m━━━━━━━━━━━━━━━━━━━━\u001b[0m\u001b[37m\u001b[0m \u001b[1m0s\u001b[0m 1ms/step - accuracy: 0.9768 - loss: 0.0658 - val_accuracy: 0.9659 - val_loss: 0.0880\n",
      "Epoch 18/30\n",
      "\u001b[1m107/107\u001b[0m \u001b[32m━━━━━━━━━━━━━━━━━━━━\u001b[0m\u001b[37m\u001b[0m \u001b[1m0s\u001b[0m 2ms/step - accuracy: 0.9730 - loss: 0.0651 - val_accuracy: 0.9718 - val_loss: 0.0838\n",
      "Epoch 19/30\n",
      "\u001b[1m107/107\u001b[0m \u001b[32m━━━━━━━━━━━━━━━━━━━━\u001b[0m\u001b[37m\u001b[0m \u001b[1m0s\u001b[0m 2ms/step - accuracy: 0.9744 - loss: 0.0685 - val_accuracy: 0.9694 - val_loss: 0.0857\n",
      "Epoch 20/30\n",
      "\u001b[1m107/107\u001b[0m \u001b[32m━━━━━━━━━━━━━━━━━━━━\u001b[0m\u001b[37m\u001b[0m \u001b[1m0s\u001b[0m 2ms/step - accuracy: 0.9725 - loss: 0.0622 - val_accuracy: 0.9706 - val_loss: 0.0839\n",
      "Epoch 21/30\n",
      "\u001b[1m107/107\u001b[0m \u001b[32m━━━━━━━━━━━━━━━━━━━━\u001b[0m\u001b[37m\u001b[0m \u001b[1m0s\u001b[0m 2ms/step - accuracy: 0.9786 - loss: 0.0564 - val_accuracy: 0.9706 - val_loss: 0.0763\n",
      "Epoch 22/30\n",
      "\u001b[1m107/107\u001b[0m \u001b[32m━━━━━━━━━━━━━━━━━━━━\u001b[0m\u001b[37m\u001b[0m \u001b[1m0s\u001b[0m 2ms/step - accuracy: 0.9788 - loss: 0.0556 - val_accuracy: 0.9647 - val_loss: 0.0817\n",
      "Epoch 23/30\n",
      "\u001b[1m107/107\u001b[0m \u001b[32m━━━━━━━━━━━━━━━━━━━━\u001b[0m\u001b[37m\u001b[0m \u001b[1m0s\u001b[0m 2ms/step - accuracy: 0.9801 - loss: 0.0506 - val_accuracy: 0.9682 - val_loss: 0.0929\n",
      "Epoch 24/30\n",
      "\u001b[1m107/107\u001b[0m \u001b[32m━━━━━━━━━━━━━━━━━━━━\u001b[0m\u001b[37m\u001b[0m \u001b[1m0s\u001b[0m 2ms/step - accuracy: 0.9784 - loss: 0.0514 - val_accuracy: 0.9682 - val_loss: 0.0907\n",
      "Epoch 25/30\n",
      "\u001b[1m107/107\u001b[0m \u001b[32m━━━━━━━━━━━━━━━━━━━━\u001b[0m\u001b[37m\u001b[0m \u001b[1m0s\u001b[0m 2ms/step - accuracy: 0.9816 - loss: 0.0542 - val_accuracy: 0.9671 - val_loss: 0.0801\n",
      "Epoch 26/30\n",
      "\u001b[1m107/107\u001b[0m \u001b[32m━━━━━━━━━━━━━━━━━━━━\u001b[0m\u001b[37m\u001b[0m \u001b[1m0s\u001b[0m 2ms/step - accuracy: 0.9860 - loss: 0.0425 - val_accuracy: 0.9682 - val_loss: 0.0829\n",
      "Epoch 27/30\n",
      "\u001b[1m107/107\u001b[0m \u001b[32m━━━━━━━━━━━━━━━━━━━━\u001b[0m\u001b[37m\u001b[0m \u001b[1m0s\u001b[0m 2ms/step - accuracy: 0.9809 - loss: 0.0433 - val_accuracy: 0.9694 - val_loss: 0.0778\n",
      "Epoch 28/30\n",
      "\u001b[1m107/107\u001b[0m \u001b[32m━━━━━━━━━━━━━━━━━━━━\u001b[0m\u001b[37m\u001b[0m \u001b[1m0s\u001b[0m 2ms/step - accuracy: 0.9829 - loss: 0.0462 - val_accuracy: 0.9741 - val_loss: 0.0796\n",
      "Epoch 29/30\n",
      "\u001b[1m107/107\u001b[0m \u001b[32m━━━━━━━━━━━━━━━━━━━━\u001b[0m\u001b[37m\u001b[0m \u001b[1m0s\u001b[0m 2ms/step - accuracy: 0.9805 - loss: 0.0438 - val_accuracy: 0.9741 - val_loss: 0.0851\n",
      "Epoch 30/30\n",
      "\u001b[1m107/107\u001b[0m \u001b[32m━━━━━━━━━━━━━━━━━━━━\u001b[0m\u001b[37m\u001b[0m \u001b[1m0s\u001b[0m 2ms/step - accuracy: 0.9797 - loss: 0.0434 - val_accuracy: 0.9671 - val_loss: 0.1057\n",
      "\u001b[1m27/27\u001b[0m \u001b[32m━━━━━━━━━━━━━━━━━━━━\u001b[0m\u001b[37m\u001b[0m \u001b[1m0s\u001b[0m 2ms/step \n",
      "Model Accuracy: 0.9670588235294117\n"
     ]
    }
   ],
   "source": [
    "import numpy as np\n",
    "from sklearn.model_selection import train_test_split\n",
    "from sklearn.decomposition import PCA\n",
    "from sklearn.preprocessing import StandardScaler\n",
    "from sklearn.metrics import accuracy_score\n",
    "import tensorflow as tf\n",
    "from tensorflow import keras\n",
    "from tensorflow.keras import layers\n",
    "\n",
    "# Applying PCA\n",
    "pca = PCA(n_components=num_components_to_retain)\n",
    "X_pca = pca.fit_transform(X_train_resampled)\n",
    "\n",
    "# Splitting the data into training and validation sets\n",
    "X_train, X_val, y_train, y_val = train_test_split(X_pca, y_train_resampled, test_size=0.2, random_state=42)\n",
    "\n",
    "model = keras.Sequential([\n",
    "    layers.Input(shape=(num_components_to_retain,)),  # Use the correct number of components\n",
    "    layers.Dense(256, activation='relu'),\n",
    "    layers.Dense(128, activation='relu'),\n",
    "    layers.Dense(2, activation='softmax')\n",
    "])\n",
    "\n",
    "# Compile the model\n",
    "model.compile(optimizer='adam', loss='sparse_categorical_crossentropy', metrics=['accuracy'])\n",
    "\n",
    "# Train the model\n",
    "epochs = 30\n",
    "batch_size = 32\n",
    "model.fit(X_train, y_train, epochs=epochs, batch_size=batch_size, verbose=1, validation_data=(X_val, y_val))\n",
    "\n",
    "# Evaluate the model\n",
    "y_pred = model.predict(pca_xtest)\n",
    "y_pred_class = np.argmax(y_pred, axis=1)\n",
    "\n",
    "accuracy = accuracy_score(pca_ytest, y_pred_class)\n",
    "print(\"Model Accuracy:\", accuracy)\n"
   ]
  },
  {
   "cell_type": "code",
   "execution_count": 48,
   "id": "4e96ece3",
   "metadata": {},
   "outputs": [
    {
     "name": "stdout",
     "output_type": "stream",
     "text": [
      "Confusion Matrix \n",
      " [[433   9]\n",
      " [ 19 389]]\n",
      "Precision: 0.9773869346733668\n",
      "Recall: 0.9534313725490197\n",
      "F1 Score: 0.9652605459057072\n"
     ]
    }
   ],
   "source": [
    "# Calculating precision, recall, and F1 score\n",
    "precision = precision_score(pca_ytest, y_pred_class)\n",
    "recall = recall_score(pca_ytest, y_pred_class)\n",
    "f1 = f1_score(pca_ytest, y_pred_class)\n",
    "conf = confusion_matrix(pca_ytest,y_pred_class)\n",
    "\n",
    "print(\"Confusion Matrix \\n\",conf)\n",
    "print(\"Precision:\", precision)\n",
    "print(\"Recall:\", recall)\n",
    "print(\"F1 Score:\", f1)"
   ]
  },
  {
   "cell_type": "code",
   "execution_count": 49,
   "id": "03f55b88",
   "metadata": {},
   "outputs": [
    {
     "name": "stdout",
     "output_type": "stream",
     "text": [
      "\u001b[1m14/14\u001b[0m \u001b[32m━━━━━━━━━━━━━━━━━━━━\u001b[0m\u001b[37m\u001b[0m \u001b[1m0s\u001b[0m 2ms/step \n",
      "\u001b[1m14/14\u001b[0m \u001b[32m━━━━━━━━━━━━━━━━━━━━\u001b[0m\u001b[37m\u001b[0m \u001b[1m0s\u001b[0m 1ms/step \n",
      "\u001b[1m14/14\u001b[0m \u001b[32m━━━━━━━━━━━━━━━━━━━━\u001b[0m\u001b[37m\u001b[0m \u001b[1m0s\u001b[0m 1ms/step \n",
      "\u001b[1m14/14\u001b[0m \u001b[32m━━━━━━━━━━━━━━━━━━━━\u001b[0m\u001b[37m\u001b[0m \u001b[1m0s\u001b[0m 1ms/step \n",
      "\u001b[1m14/14\u001b[0m \u001b[32m━━━━━━━━━━━━━━━━━━━━\u001b[0m\u001b[37m\u001b[0m \u001b[1m0s\u001b[0m 1ms/step \n",
      "\u001b[1m14/14\u001b[0m \u001b[32m━━━━━━━━━━━━━━━━━━━━\u001b[0m\u001b[37m\u001b[0m \u001b[1m0s\u001b[0m 1ms/step \n",
      "\u001b[1m14/14\u001b[0m \u001b[32m━━━━━━━━━━━━━━━━━━━━\u001b[0m\u001b[37m\u001b[0m \u001b[1m0s\u001b[0m 1ms/step \n",
      "\u001b[1m14/14\u001b[0m \u001b[32m━━━━━━━━━━━━━━━━━━━━\u001b[0m\u001b[37m\u001b[0m \u001b[1m0s\u001b[0m 1ms/step \n",
      "\u001b[1m14/14\u001b[0m \u001b[32m━━━━━━━━━━━━━━━━━━━━\u001b[0m\u001b[37m\u001b[0m \u001b[1m0s\u001b[0m 1ms/step \n",
      "\u001b[1m14/14\u001b[0m \u001b[32m━━━━━━━━━━━━━━━━━━━━\u001b[0m\u001b[37m\u001b[0m \u001b[1m0s\u001b[0m 1ms/step \n",
      "Cross-Validation Scores: [0.9741176470588235, 0.971764705882353, 0.9835294117647059, 0.9835294117647059, 1.0, 0.9929411764705882, 0.9976415094339622, 1.0, 0.9976415094339622, 0.9952830188679245]\n",
      "Mean CV Accuracy: 0.9896448390677026\n"
     ]
    }
   ],
   "source": [
    "# Performing cross-validation\n",
    "from sklearn.model_selection import train_test_split, KFold\n",
    "kf = KFold(n_splits=10, shuffle=True, random_state=42)\n",
    "cv_scores = []\n",
    "for train_index, val_index in kf.split(X_pca):\n",
    "    X_train_fold, X_val_fold = X_pca[train_index], X_pca[val_index]\n",
    "    y_train_fold, y_val_fold = y_train_resampled[train_index], y_train_resampled[val_index]\n",
    "    \n",
    "    model.fit(X_train_fold, y_train_fold, epochs=epochs, batch_size=batch_size, verbose=0)\n",
    "    \n",
    "    y_val_pred = model.predict(X_val_fold)\n",
    "    y_val_pred_class = np.argmax(y_val_pred, axis=1)\n",
    "    \n",
    "    fold_accuracy = accuracy_score(y_val_fold, y_val_pred_class)\n",
    "    cv_scores.append(fold_accuracy)\n",
    "\n",
    "print(\"Cross-Validation Scores:\", cv_scores)\n",
    "print(\"Mean CV Accuracy:\", np.mean(cv_scores))"
   ]
  },
  {
   "cell_type": "markdown",
   "id": "2ad0a191",
   "metadata": {},
   "source": [
    "## My Inferences on Neural Networks\n",
    "\n",
    "<b>Model Accuracy: 0.9537:</b>\n",
    "\n",
    "The neural network model's total accuracy is roughly 95.37%. This indicates that for around 95.37% of the cases in the dataset, the model accurately predicts the loan approval status.\n",
    "\n",
    "<b>Cross-Validation Scores:</b>\n",
    "\n",
    "Cross-validation is a method for evaluating how well a model generalizes. The reported cross-validation scores, which range from roughly 0.9525 to 0.9976, are fairly stable. The model performs well on average across multiple folds of the data, as evidenced by the mean cross-validation accuracy of 0.9853.\n",
    "\n",
    "<b>Precision</b>\n",
    "\n",
    "0.9392:The precision measures the proportion of observations that were accurately forecasted as positive to all anticipated positives. It is 0.9392 in this instance, meaning that when the model predicts that a loan will be \"Approved,\" it is accurate 93.92% of the time.\n",
    "\n",
    "<b>Recall</b>\n",
    "\n",
    "0.9720: The model's capacity to accurately detect positive cases is measured by recall, also known as sensitivity or true positive rate. A recall of 0.9720 indicates that roughly 97.20 percent of the real \"Approved\" loans are accurately identified by the model.\n",
    "\n",
    "<b>F1 Score</b>\n",
    "\n",
    "0.9553:The harmonic mean of recall and precision, which is the F1 score, strikes a compromise between the two. A result of 0.9553 indicates that the model's precision and recall are well-balanced.\n",
    "\n"
   ]
  },
  {
   "cell_type": "code",
   "execution_count": 50,
   "id": "da2e5817",
   "metadata": {},
   "outputs": [
    {
     "name": "stdout",
     "output_type": "stream",
     "text": [
      "X_train_resampled shape: (4246, 11)\n",
      "X_test shape: (848, 11)\n",
      "y_test shape: (848,)\n",
      "y_train shape: 0       1\n",
      "1       0\n",
      "2       1\n",
      "3       0\n",
      "4       0\n",
      "       ..\n",
      "4241    0\n",
      "4242    0\n",
      "4243    0\n",
      "4244    0\n",
      "4245    0\n",
      "Name: loan_status_encoded, Length: 4246, dtype: int64\n",
      "\n",
      "X_train_resampled sample:\n",
      "   no_of_dependents  income_annum  loan_amount  loan_term  cibil_score  \\\n",
      "0          1.476407      1.713206     1.289994   0.193909     0.371254   \n",
      "1          0.296507      1.246931     1.757936   1.595019    -0.882403   \n",
      "2         -0.883393      1.211064     1.111730   0.193909     0.545373   \n",
      "3         -0.293443     -0.116027    -0.336665  -0.856923    -0.551577   \n",
      "4          0.296507      1.318665     1.791361   0.894464     0.928435   \n",
      "\n",
      "   residential_assets_value  commercial_assets_value  luxury_assets_value  \\\n",
      "0                 -0.340142                -0.465848             0.824850   \n",
      "1                  2.457270                -0.814720             0.869011   \n",
      "2                 -0.324426                 2.325124             0.880052   \n",
      "3                 -0.623026                -0.256525             0.328030   \n",
      "4                 -1.094500                -0.721687             0.471556   \n",
      "\n",
      "   bank_asset_value  education_enocoded  self_employed_encoded  \n",
      "0          2.836280           -1.006632              -1.007107  \n",
      "1          0.916252            0.993412               0.992943  \n",
      "2          0.854316            0.993412              -1.007107  \n",
      "3         -0.817967            0.993412               0.992943  \n",
      "4         -0.043762            0.993412              -1.007107  \n",
      "\n",
      "X_test sample:\n",
      "      no_of_dependents  income_annum  loan_amount  loan_term  cibil_score  \\\n",
      "3188          0.886457     -1.694188    -1.539946   1.244742    -0.325222   \n",
      "764           1.476407     -1.335515    -1.138852  -1.207200    -1.474408   \n",
      "3264          1.476407      1.211064     1.880493  -0.156368     0.028820   \n",
      "1967          1.476407      0.816523     0.510089  -0.156368    -1.317701   \n",
      "2185          0.886457     -0.187761     0.031005  -0.156368     1.410164   \n",
      "\n",
      "      residential_assets_value  commercial_assets_value  luxury_assets_value  \\\n",
      "3188                 -1.047352                -1.117075            -1.570923   \n",
      "764                  -0.654458                -0.768204            -1.283872   \n",
      "3264                  1.812922                 1.255251             0.769648   \n",
      "1967                  0.477080                -0.047203             0.493637   \n",
      "2185                  0.917122                 0.464476            -0.466880   \n",
      "\n",
      "      bank_asset_value  education_enocoded  self_employed_encoded  \n",
      "3188         -1.499267            0.993412              -1.007107  \n",
      "764          -1.034744           -1.006632              -1.007107  \n",
      "3264          1.287870           -1.006632               0.992943  \n",
      "1967          1.752393            0.993412               0.992943  \n",
      "2185         -0.848935            0.993412              -1.007107  \n",
      "\n",
      "y_test sample:\n",
      "3214    0\n",
      "769     1\n",
      "3291    1\n",
      "1985    0\n",
      "2204    1\n",
      "Name: loan_status_encoded, dtype: int64\n",
      "\n",
      "y_test sample:\n",
      "0    1\n",
      "1    0\n",
      "2    1\n",
      "3    0\n",
      "4    0\n",
      "Name: loan_status_encoded, dtype: int64\n"
     ]
    }
   ],
   "source": [
    "# Print dimensions\n",
    "print(\"X_train_resampled shape:\", X_train_resampled.shape)\n",
    "print(\"X_test shape:\", X_test.shape)\n",
    "print(\"y_test shape:\", y_test.shape)\n",
    "print(\"y_train shape:\",y_train_resampled)\n",
    "\n",
    "# Print sample values (first 5 rows)\n",
    "print(\"\\nX_train_resampled sample:\")\n",
    "print(X_train_resampled.head())  # Assuming it's a DataFrame\n",
    "\n",
    "print(\"\\nX_test sample:\")\n",
    "# Check if X_test is a NumPy array or DataFrame\n",
    "if isinstance(X_test, pd.DataFrame):\n",
    "    print(X_test.head())\n",
    "else:\n",
    "    print(X_test[:5])  # Print first 5 rows for NumPy array\n",
    "\n",
    "print(\"\\ny_test sample:\")\n",
    "print(y_test[:5])  # Print first 5 labels\n",
    "\n",
    "print(\"\\ny_test sample:\")\n",
    "print(y_train_resampled[:5])  # Print first 5 labels"
   ]
  },
  {
   "cell_type": "markdown",
   "id": "2cc56b2e",
   "metadata": {},
   "source": [
    "# Decision Trees"
   ]
  },
  {
   "cell_type": "code",
   "execution_count": 51,
   "id": "407e8e9b",
   "metadata": {},
   "outputs": [
    {
     "name": "stdout",
     "output_type": "stream",
     "text": [
      "Index(['cibil_score', 'loan_term', 'loan_amount', 'income_annum',\n",
      "       'commercial_assets_value'],\n",
      "      dtype='object')\n"
     ]
    }
   ],
   "source": [
    "classifier_dt = DecisionTreeClassifier(random_state=42)\n",
    "classifier_dt.fit(X_train_resampled, y_train_resampled)\n",
    "\n",
    "# Getting feature importances\n",
    "feature_importances_dt = classifier_dt.feature_importances_\n",
    "\n",
    "# Choosing the top-k important features\n",
    "k = 5 \n",
    "top_k_features_indices_dt = np.argsort(feature_importances_dt)[::-1][:k]\n",
    "top_k_features_dt = X_train_resampled.columns[top_k_features_indices_dt]\n",
    "print(top_k_features_dt)"
   ]
  },
  {
   "cell_type": "code",
   "execution_count": 52,
   "id": "b644b223",
   "metadata": {},
   "outputs": [
    {
     "data": {
      "image/png": "[encoded data removed]",
      "text/plain": [
       "<Figure size 1000x600 with 1 Axes>"
      ]
     },
     "metadata": {},
     "output_type": "display_data"
    }
   ],
   "source": [
    "plt.figure(figsize=(10, 6))\n",
    "plt.barh(X_train_resampled.columns, feature_importances_dt)\n",
    "plt.xlabel('Feature Importance')\n",
    "plt.ylabel('Feature')\n",
    "plt.title('Feature Importances - Decision Trees')\n",
    "plt.show()"
   ]
  },
  {
   "cell_type": "code",
   "execution_count": 53,
   "id": "babfffaf",
   "metadata": {},
   "outputs": [],
   "source": [
    "# Using the selected features for training and testing\n",
    "X_train_selected_dt = X_train_resampled[top_k_features_dt]\n",
    "X_test_selected_dt = X_test[top_k_features_dt]"
   ]
  },
  {
   "cell_type": "code",
   "execution_count": 54,
   "id": "b4cbb82a",
   "metadata": {},
   "outputs": [],
   "source": [
    "param_grid = {\n",
    "    'max_depth': [None, 10, 20],\n",
    "    'min_samples_split': [2, 5, 10],\n",
    "    'min_samples_leaf': [1, 2, 4],\n",
    "    'criterion': ['gini', 'entropy']\n",
    "}"
   ]
  },
  {
   "cell_type": "code",
   "execution_count": 55,
   "id": "a1493f49",
   "metadata": {},
   "outputs": [],
   "source": [
    "# Instantiatting GridSearchCV\n",
    "grid_search = GridSearchCV(classifier_dt, param_grid=param_grid, cv=5, n_jobs=-1)\n",
    "\n",
    "# Fitting GridSearchCV on the selected features\n",
    "grid_search.fit(X_train_selected_dt, y_train_resampled)\n",
    "\n",
    "# Getting the best model\n",
    "best_dt_model = grid_search.best_estimator_"
   ]
  },
  {
   "cell_type": "code",
   "execution_count": 56,
   "id": "5b5e3fc8",
   "metadata": {},
   "outputs": [
    {
     "name": "stdout",
     "output_type": "stream",
     "text": [
      "[[325  10]\n",
      " [ 15 498]]\n",
      "------------------------------------------------------------------------------------------\n",
      "Best Parameters: DecisionTreeClassifier(criterion='entropy', random_state=42)\n",
      "None\n",
      "-------------------------------------------------------------------------------------------\n",
      "Model Accuracy: 0.9670588235294117\n",
      "Precision 0.9803149606299213\n",
      "Recall 0.9707602339181286\n",
      "----------------------------------------------------------------------------------------\n",
      "[0.97411765 0.97647059 0.98588235 0.98352941 0.98588235 0.99294118\n",
      " 0.99056604 0.98820755 0.98349057 0.97877358]\n",
      "----------------------------------------------------------------------------------------\n",
      "The cross validation accuracy of decision trees is  0.9839861265260821\n"
     ]
    }
   ],
   "source": [
    "y_pred_dt = best_dt_model.predict(X_test_selected_dt)\n",
    "cm_dt = confusion_matrix(y_test,y_pred_dt)\n",
    "print(cm_dt)\n",
    "print(\"------------------------------------------------------------------------------------------\")\n",
    "print(print(\"Best Parameters:\", best_dt_model))\n",
    "print(\"-------------------------------------------------------------------------------------------\")\n",
    "accuracy_dt = accuracy_score(y_test, y_pred_dt)\n",
    "print(\"Model Accuracy:\", accuracy)\n",
    "precision_dt = precision_score(y_test,y_pred_dt)\n",
    "print(\"Precision\",precision_dt)\n",
    "recall_dt = recall_score(y_test,y_pred_dt)\n",
    "print(\"Recall\",recall_dt)\n",
    "print(\"----------------------------------------------------------------------------------------\")\n",
    "scores_dt = cross_val_score(best_dt_model,X_train_selected_dt,y_train_resampled,cv = 10, scoring = \"accuracy\")\n",
    "print(scores_dt)\n",
    "print(\"----------------------------------------------------------------------------------------\")\n",
    "print(\"The cross validation accuracy of decision trees is \",scores_dt.mean())"
   ]
  },
  {
   "cell_type": "code",
   "execution_count": 57,
   "id": "f4c92c97",
   "metadata": {},
   "outputs": [
    {
     "data": {
      "image/png": "[encoded data removed]",
      "text/plain": [
       "<Figure size 1000x800 with 1 Axes>"
      ]
     },
     "metadata": {},
     "output_type": "display_data"
    }
   ],
   "source": [
    "# Getting predicted probabilities for the positive class (class 1)\n",
    "y_pred_prob_dt = best_dt_model.predict_proba(X_test_selected_dt)[:, 1]\n",
    "\n",
    "# Calculating ROC curve and AUC\n",
    "fpr_dt, tpr_dt, thresholds_dt = roc_curve(y_test, y_pred_prob_dt)\n",
    "roc_auc_gb = roc_auc_score(y_test, y_pred_prob_gb)\n",
    "\n",
    "# Create  curve plot\n",
    "plt.figure(figsize=(10, 8))\n",
    "plt.plot(fpr_dt, tpr_dt, color='orange', lw=2, label='ROC Curve (AUC = {:.2f})'.format(roc_auc))\n",
    "plt.plot([0,1],[0,1],color = \"blue\",linestyle =\"--\",label = \"Guessing\")\n",
    "plt.xlim([0.0, 1.0])\n",
    "plt.ylim([0.0, 1.05])\n",
    "plt.xlabel('False Positive Rate', fontsize=12)\n",
    "plt.ylabel('True Positive Rate', fontsize=12)\n",
    "plt.title('Receiver Operating Characteristic (ROC) Curve', fontsize=14)\n",
    "plt.legend(loc=\"lower right\", fontsize=12)\n",
    "plt.grid(True)\n",
    "plt.show()"
   ]
  },
  {
   "cell_type": "markdown",
   "id": "d69fc89a",
   "metadata": {},
   "source": [
    "\n",
    "<b> Reasons to Choose Decision Tree:</b>\n",
    "\n",
    "Decision trees offer several advantages that make them a suitable choice for the loan approval prediction task. They are easy to understand and interpret, providing transparency in the decision-making process. Decision trees can handle both categorical and numerical data without requiring extensive preprocessing. They can capture non-linear relationships in the data and are robust to outliers, which is beneficial for a diverse dataset like loan applications. Additionally, decision trees can handle feature interactions and can be visualized, aiding in explaining the decision-making process to stakeholders.\n",
    "\n",
    "<b> Feature Selection Process using Decision Trees:</b>\n",
    "\n",
    "Decision trees use a method for feature selection that ranks features based on how important they are in splitting the data. Features that result in a considerable information gain or a decrease in Gini impurities are preferred while building trees. The feature's contribution to the model's predictive capability is then assessed using these splits. In our evaluation, the decision tree's top 5 features were cibil_score, loan duration, loan amount, income per annum, and residential assets value. These characteristics have been found to be the ones that differ the most in loan approval statuses. This method naturally executes feature selection by prioritizing pertinent features, which is in line with our objective of discovering important variables affecting loan acceptance.\n",
    "\n",
    "<b> Confusion Matrix: </b>\n",
    "\n",
    "True Positive (TP): 522\n",
    "The model correctly predicted 522 instances as \"Approved\" loans.\n",
    "\n",
    "True Negative (TN): 314\n",
    "The model correctly predicted 314 instances as \"Not Approved\" loans.\n",
    "\n",
    "False Positive (FP): 1\n",
    "The model incorrectly predicted 1 instance as \"Approved\" when it was actually \"Not Approved.\"\n",
    "\n",
    "False Negative (FN): 10\n",
    "The model incorrectly predicted 10 instances as \"Not Approved\" when they were actually \"Approved.\"\n",
    "\n",
    "<b> Precision:</b> \n",
    "\n",
    "Precision measures the accuracy of the positive predictions made by the model. In this case, the precision is calculated as TP / (TP + FP), which is 522 / (522 + 1) = 0.9981. This means that when the model predicts a loan as \"Approved,\" it is correct 99.81% of the time.\n",
    "\n",
    "<b> Recall </b>\n",
    "\n",
    "Recall (Sensitivity):\n",
    "Recall measures the model's ability to identify all positive instances. It is calculated as TP / (TP + FN), which is 522 / (522 + 10) = 0.9812. This means the model correctly identifies 98.12% of the \"Approved\" loans.\n",
    "\n",
    "<b> F1 Score </b>\n",
    "\n",
    "F1 score is 2 * (Precision * Recall) / (Precision + Recall). For the decision tree model, the F1 score is approximately 0.9896\n",
    "\n",
    "<b> Cross Validation Accuracy: </b>\n",
    "\n",
    "The cross-validation accuracy of the decision tree model on 10 folds is 0.9829, indicating the model's consistent performance across different subsets of the data.\n",
    "\n",
    "These metrics collectively highlight the decision tree model's ability to accurately predict loan approval statuses, with high precision, recall, and cross-validation accuracy."
   ]
  },
  {
   "cell_type": "markdown",
   "id": "3ec10cea",
   "metadata": {},
   "source": [
    "# Logistic Regression Sequential Feature Selection"
   ]
  },
  {
   "cell_type": "code",
   "execution_count": 58,
   "id": "b35b1ffd",
   "metadata": {},
   "outputs": [],
   "source": [
    "import pandas as pd\n",
    "from sklearn.preprocessing import StandardScaler\n",
    "scaler = StandardScaler()\n",
    "scaled_data = scaler.fit_transform(X)"
   ]
  },
  {
   "cell_type": "code",
   "execution_count": 60,
   "id": "1f5fd8ec",
   "metadata": {},
   "outputs": [
    {
     "name": "stdout",
     "output_type": "stream",
     "text": [
      "Collecting mlxtend\n",
      "  Downloading mlxtend-0.23.4-py3-none-any.whl.metadata (7.3 kB)\n",
      "Requirement already satisfied: scipy>=1.2.1 in c:\\users\\samar\\anaconda3\\envs\\fakejobdetection\\lib\\site-packages (from mlxtend) (1.15.2)\n",
      "Requirement already satisfied: numpy>=1.16.2 in c:\\users\\samar\\anaconda3\\envs\\fakejobdetection\\lib\\site-packages (from mlxtend) (1.26.4)\n",
      "Requirement already satisfied: pandas>=0.24.2 in c:\\users\\samar\\anaconda3\\envs\\fakejobdetection\\lib\\site-packages (from mlxtend) (2.2.3)\n",
      "Requirement already satisfied: scikit-learn>=1.3.1 in c:\\users\\samar\\anaconda3\\envs\\fakejobdetection\\lib\\site-packages (from mlxtend) (1.6.1)\n",
      "Requirement already satisfied: matplotlib>=3.0.0 in c:\\users\\samar\\anaconda3\\envs\\fakejobdetection\\lib\\site-packages (from mlxtend) (3.10.0)\n",
      "Requirement already satisfied: joblib>=0.13.2 in c:\\users\\samar\\anaconda3\\envs\\fakejobdetection\\lib\\site-packages (from mlxtend) (1.4.2)\n",
      "Requirement already satisfied: contourpy>=1.0.1 in c:\\users\\samar\\anaconda3\\envs\\fakejobdetection\\lib\\site-packages (from matplotlib>=3.0.0->mlxtend) (1.3.1)\n",
      "Requirement already satisfied: cycler>=0.10 in c:\\users\\samar\\anaconda3\\envs\\fakejobdetection\\lib\\site-packages (from matplotlib>=3.0.0->mlxtend) (0.12.1)\n",
      "Requirement already satisfied: fonttools>=4.22.0 in c:\\users\\samar\\anaconda3\\envs\\fakejobdetection\\lib\\site-packages (from matplotlib>=3.0.0->mlxtend) (4.56.0)\n",
      "Requirement already satisfied: kiwisolver>=1.3.1 in c:\\users\\samar\\anaconda3\\envs\\fakejobdetection\\lib\\site-packages (from matplotlib>=3.0.0->mlxtend) (1.4.7)\n",
      "Requirement already satisfied: packaging>=20.0 in c:\\users\\samar\\anaconda3\\envs\\fakejobdetection\\lib\\site-packages (from matplotlib>=3.0.0->mlxtend) (24.2)\n",
      "Requirement already satisfied: pillow>=8 in c:\\users\\samar\\anaconda3\\envs\\fakejobdetection\\lib\\site-packages (from matplotlib>=3.0.0->mlxtend) (11.1.0)\n",
      "Requirement already satisfied: pyparsing>=2.3.1 in c:\\users\\samar\\anaconda3\\envs\\fakejobdetection\\lib\\site-packages (from matplotlib>=3.0.0->mlxtend) (3.2.1)\n",
      "Requirement already satisfied: python-dateutil>=2.7 in c:\\users\\samar\\anaconda3\\envs\\fakejobdetection\\lib\\site-packages (from matplotlib>=3.0.0->mlxtend) (2.9.0.post0)\n",
      "Requirement already satisfied: pytz>=2020.1 in c:\\users\\samar\\anaconda3\\envs\\fakejobdetection\\lib\\site-packages (from pandas>=0.24.2->mlxtend) (2024.1)\n",
      "Requirement already satisfied: tzdata>=2022.7 in c:\\users\\samar\\anaconda3\\envs\\fakejobdetection\\lib\\site-packages (from pandas>=0.24.2->mlxtend) (2025.1)\n",
      "Requirement already satisfied: threadpoolctl>=3.1.0 in c:\\users\\samar\\anaconda3\\envs\\fakejobdetection\\lib\\site-packages (from scikit-learn>=1.3.1->mlxtend) (3.5.0)\n",
      "Requirement already satisfied: six>=1.5 in c:\\users\\samar\\anaconda3\\envs\\fakejobdetection\\lib\\site-packages (from python-dateutil>=2.7->matplotlib>=3.0.0->mlxtend) (1.17.0)\n",
      "Downloading mlxtend-0.23.4-py3-none-any.whl (1.4 MB)\n",
      "   ---------------------------------------- 0.0/1.4 MB ? eta -:--:--\n",
      "   -------------------------------------- - 1.3/1.4 MB 11.2 MB/s eta 0:00:01\n",
      "   ---------------------------------------- 1.4/1.4 MB 9.9 MB/s eta 0:00:00\n",
      "Installing collected packages: mlxtend\n",
      "Successfully installed mlxtend-0.23.4\n"
     ]
    }
   ],
   "source": [
    "!pip install mlxtend\n"
   ]
  },
  {
   "cell_type": "code",
   "execution_count": 61,
   "id": "1237c07a",
   "metadata": {},
   "outputs": [
    {
     "name": "stdout",
     "output_type": "stream",
     "text": [
      "Selected features using stepwise feature selection are: \n",
      " Index(['no_of_dependents', 'cibil_score', 'residential_assets_value',\n",
      "       'bank_asset_value', 'education_enocoded'],\n",
      "      dtype='object')\n"
     ]
    }
   ],
   "source": [
    "from sklearn.linear_model import LogisticRegression\n",
    "from mlxtend.feature_selection import SequentialFeatureSelector\n",
    "from sklearn.metrics import accuracy_score, precision_score, recall_score, f1_score, confusion_matrix\n",
    "\n",
    "# Creating a logistic regression model\n",
    "model_lg = LogisticRegression()\n",
    "\n",
    "# Initializing the Sequential Feature Selector\n",
    "sfs = SequentialFeatureSelector(model_lg, forward=True, k_features=5, scoring='accuracy', cv=5)\n",
    "\n",
    "# Fit the SFS on the resampled training data\n",
    "sfs.fit(X_train_resampled, y_train_resampled)\n",
    "\n",
    "# Getting the selected features\n",
    "selected_features = X_train_resampled.columns[list(sfs.k_feature_idx_)]\n",
    "print(\"Selected features using stepwise feature selection are: \\n\",selected_features)\n",
    "\n",
    "# Training the logistic regression model using the selected features\n",
    "model_lg.fit(X_train_resampled[selected_features], y_train_resampled)\n",
    "\n",
    "# Making predictions on the test set\n",
    "y_pred_lg = model_lg.predict(X_test[selected_features])"
   ]
  },
  {
   "cell_type": "code",
   "execution_count": 62,
   "id": "0089ff83",
   "metadata": {},
   "outputs": [
    {
     "name": "stdout",
     "output_type": "stream",
     "text": [
      "Confusion Matrix:\n",
      " [[322  13]\n",
      " [ 44 469]]\n",
      "Accuracy: 0.9327830188679245\n",
      "Precision: 0.9730290456431535\n",
      "Recall: 0.9142300194931774\n",
      "F1-score: 0.942713567839196\n",
      "---------------------------------\n",
      "[0.92470588 0.92705882 0.92470588 0.94823529 0.92941176 0.92470588\n",
      " 0.9504717  0.94575472 0.94575472 0.92688679]\n",
      "---------------------------------\n",
      "The cross validation accuracy of logistic regression model using sequential feature selections is \n",
      " 0.9347691453940066\n"
     ]
    }
   ],
   "source": [
    "# Confusion matrix\n",
    "conf_matrix = confusion_matrix(y_test, y_pred_lg)\n",
    "print(\"Confusion Matrix:\\n\", conf_matrix)\n",
    "\n",
    "# Calculating accuracy\n",
    "accuracy = accuracy_score(y_test, y_pred_lg)\n",
    "print(\"Accuracy:\", accuracy)\n",
    "\n",
    "# Calculating precision\n",
    "precision = precision_score(y_test, y_pred_lg)\n",
    "print(\"Precision:\", precision)\n",
    "\n",
    "# Calculate recall\n",
    "recall = recall_score(y_test, y_pred_lg)\n",
    "print(\"Recall:\", recall)\n",
    "\n",
    "# Calculating F1-score\n",
    "f1 = f1_score(y_test, y_pred_lg)\n",
    "print(\"F1-score:\", f1)\n",
    "\n",
    "print(\"---------------------------------\")\n",
    "scores_lg = cross_val_score(model_lg,X_train_resampled,y_train_resampled,cv=10,scoring='accuracy')\n",
    "print(scores_lg)\n",
    "\n",
    "print(\"---------------------------------\")\n",
    "print(\"The cross validation accuracy of logistic regression model using sequential feature selections is \\n\",scores_lg.mean())"
   ]
  },
  {
   "cell_type": "markdown",
   "id": "fd277131",
   "metadata": {},
   "source": [
    "## My Inferences on Logistic Regression Model\n",
    "\n",
    "\n",
    "The logistic regression model, built using stepwise feature selection, provides valuable insights into predicting loan approval outcomes. The stepwise feature selection method carefully selects a subset of features to enhance model performance and interpretability. In this case, the selected features include 'no_of_dependents,' 'income_annum,' 'cibil_score,' 'education_enocoded,' and 'self_employed_encoded.'\n",
    "\n",
    "<b> Reasons to choose SFS </b>\n",
    "Sequential Feature Selection (SFS) is employed to enhance model performance by systematically evaluating subsets of features and identifying the most relevant ones for predicting loan approvals. This iterative process optimally combines features to maximize accuracy while minimizing overfitting. By iteratively adding or removing features based on their impact, SFS aims to find an optimal balance between model complexity and predictive power. Its stepwise nature ensures that only the most informative features are retained, leading to improved model interpretability and potentially reducing the risk of multicollinearity. SFS contributes to a more efficient and effective model by focusing on the most relevant variables, ultimately enhancing the model's ability to make accurate loan approval predictions.\n",
    "\n",
    "<b> Model Performance: </b>\n",
    "The model's performance is evaluated using multiple metrics:\n",
    "\n",
    "<b> Confusion Matrix: </b>\n",
    "\n",
    " The confusion matrix helps us understand the model's classification results. It consists of True Positives (TP), True Negatives (TN), False Positives (FP), and False Negatives (FN).\n",
    "\n",
    "<b> Accuracy: </b>\n",
    "\n",
    "The accuracy of the model measures the proportion of correct predictions out of all predictions. An accuracy of 94.10% indicates a good level of correctness in predicting loan approvals.\n",
    "\n",
    "<b>Precision: </b>\n",
    "\n",
    "Precision represents the ratio of correctly predicted \"Approved\" loans to all instances predicted as \"Approved.\" With a precision of 98.79%, the model's positive predictions are highly accurate.\n",
    "\n",
    "<b> Recall (Sensitivity): </b>\n",
    "\n",
    "Recall measures the proportion of correctly predicted \"Approved\" loans among all actual \"Approved\" instances. The model achieves a recall of 91.73%, capturing a significant portion of actual positives.\n",
    "\n",
    "<b> F1-score: </b>\n",
    "\n",
    "The F1-score combines precision and recall into a single metric, providing a balanced assessment of the model's performance. A value of 95.13% indicates that the model achieves a good balance between precision and recall.\n",
    "\n",
    "<b> Cross-Validation: </b>\n",
    "\n",
    "Cross-validation is performed on 10 folds to assess the model's generalization performance. The calculated cross-validation accuracy values ranging from 90.74% to 95.71% further validate the model's stability and consistency across different data subsets.\n",
    "\n",
    "Logistic Regression is chosen as the modeling technique for loan approval prediction due to its interpretability, computational efficiency, and probabilistic output. The model's coefficients directly indicate the impact of each feature on the loan approval decision, aiding in feature selection and understanding. "
   ]
  },
  {
   "cell_type": "code",
   "execution_count": 63,
   "id": "ceda13a5",
   "metadata": {},
   "outputs": [
    {
     "data": {
      "image/png": "[encoded data removed]",
      "text/plain": [
       "<Figure size 1000x800 with 1 Axes>"
      ]
     },
     "metadata": {},
     "output_type": "display_data"
    }
   ],
   "source": [
    "# Get predicted probabilities for the positive class (class 1)\n",
    "y_pred_prob_lg = model_lg.predict_proba(X_test[selected_features])[:, 1]\n",
    "\n",
    "# Calculate ROC curve and AUC\n",
    "fpr_lg, tpr_lg, thresholds_dt = roc_curve(y_test, y_pred_prob_lg)\n",
    "roc_auc_lg = roc_auc_score(y_test, y_pred_prob_lg)\n",
    "\n",
    "# Create  ROC curve plot\n",
    "plt.figure(figsize=(10, 8))\n",
    "plt.plot(fpr_lg, tpr_lg, color='orange', lw=2, label='ROC Curve (AUC = {:.2f})'.format(roc_auc))\n",
    "plt.plot([0,1],[0,1],color = \"blue\",linestyle =\"--\",label = \"Guessing\")\n",
    "plt.xlim([0.0, 1.0])\n",
    "plt.ylim([0.0, 1.05])\n",
    "plt.xlabel('False Positive Rate', fontsize=12)\n",
    "plt.ylabel('True Positive Rate', fontsize=12)\n",
    "plt.title('Receiver Operating Characteristic (ROC) Curve', fontsize=14)\n",
    "plt.legend(loc=\"lower right\", fontsize=12)\n",
    "plt.grid(True)\n",
    "plt.show()"
   ]
  },
  {
   "cell_type": "code",
   "execution_count": 64,
   "id": "eb3dd852",
   "metadata": {},
   "outputs": [
    {
     "data": {
      "text/plain": [
       "Index(['no_of_dependents', 'cibil_score', 'residential_assets_value',\n",
       "       'bank_asset_value', 'education_enocoded'],\n",
       "      dtype='object')"
      ]
     },
     "execution_count": 64,
     "metadata": {},
     "output_type": "execute_result"
    }
   ],
   "source": [
    "selected_features"
   ]
  },
  {
   "cell_type": "code",
   "execution_count": 65,
   "id": "22462b5d",
   "metadata": {},
   "outputs": [
    {
     "data": {
      "text/plain": [
       "Index(['no_of_dependents', 'cibil_score', 'residential_assets_value',\n",
       "       'bank_asset_value', 'education_enocoded'],\n",
       "      dtype='object')"
      ]
     },
     "execution_count": 65,
     "metadata": {},
     "output_type": "execute_result"
    }
   ],
   "source": [
    "selected_features"
   ]
  },
  {
   "cell_type": "markdown",
   "id": "962ab602",
   "metadata": {},
   "source": [
    "# Best Model\n",
    "\n",
    "#### Gradient Boosting model appears to be the best-performing model. It has the highest accuracy, precision, recall, and F1 score, making it a strong contender for the best model choice."
   ]
  },
  {
   "cell_type": "code",
   "execution_count": 66,
   "id": "108332af",
   "metadata": {},
   "outputs": [],
   "source": [
    "## this is just for tkinter app as standard scaler was used using all variables so had to scale the variables selected by sequential features again \n",
    "sc = df[['no_of_dependents', 'income_annum', 'cibil_score', 'education_enocoded','self_employed_encoded']]"
   ]
  },
  {
   "cell_type": "raw",
   "id": "eee753a4",
   "metadata": {},
   "source": [
    "import joblib\n",
    "sc1 = StandardScaler()\n",
    "sc1.fit_transform(sc)\n",
    "joblib.dump(sc1, 'scaler_1.pkl')"
   ]
  },
  {
   "cell_type": "code",
   "execution_count": 67,
   "id": "5dcceeeb",
   "metadata": {},
   "outputs": [
    {
     "ename": "FileNotFoundError",
     "evalue": "[Errno 2] No such file or directory: 'model.pkl'",
     "output_type": "error",
     "traceback": [
      "\u001b[1;31m---------------------------------------------------------------------------\u001b[0m",
      "\u001b[1;31mFileNotFoundError\u001b[0m                         Traceback (most recent call last)",
      "Cell \u001b[1;32mIn[67], line 9\u001b[0m\n\u001b[0;32m      6\u001b[0m warnings\u001b[38;5;241m.\u001b[39mfilterwarnings(\u001b[38;5;124m'\u001b[39m\u001b[38;5;124mignore\u001b[39m\u001b[38;5;124m'\u001b[39m)\n\u001b[0;32m      8\u001b[0m \u001b[38;5;66;03m# Loading the trained model and other necessary files\u001b[39;00m\n\u001b[1;32m----> 9\u001b[0m model \u001b[38;5;241m=\u001b[39m \u001b[43mjoblib\u001b[49m\u001b[38;5;241;43m.\u001b[39;49m\u001b[43mload\u001b[49m\u001b[43m(\u001b[49m\u001b[38;5;124;43m'\u001b[39;49m\u001b[38;5;124;43mmodel.pkl\u001b[39;49m\u001b[38;5;124;43m'\u001b[39;49m\u001b[43m)\u001b[49m\n\u001b[0;32m     10\u001b[0m scaler \u001b[38;5;241m=\u001b[39m joblib\u001b[38;5;241m.\u001b[39mload(\u001b[38;5;124m'\u001b[39m\u001b[38;5;124mscaler_1.pkl\u001b[39m\u001b[38;5;124m'\u001b[39m)\n\u001b[0;32m     12\u001b[0m \u001b[38;5;28;01mdef\u001b[39;00m\u001b[38;5;250m \u001b[39m\u001b[38;5;21mpredict_loan_approval\u001b[39m():\n\u001b[0;32m     13\u001b[0m     \u001b[38;5;66;03m# Get input values from the entry widgets\u001b[39;00m\n",
      "File \u001b[1;32mc:\\Users\\samar\\anaconda3\\envs\\FakeJobDetection\\Lib\\site-packages\\joblib\\numpy_pickle.py:650\u001b[0m, in \u001b[0;36mload\u001b[1;34m(filename, mmap_mode)\u001b[0m\n\u001b[0;32m    648\u001b[0m         obj \u001b[38;5;241m=\u001b[39m _unpickle(fobj)\n\u001b[0;32m    649\u001b[0m \u001b[38;5;28;01melse\u001b[39;00m:\n\u001b[1;32m--> 650\u001b[0m     \u001b[38;5;28;01mwith\u001b[39;00m \u001b[38;5;28;43mopen\u001b[39;49m\u001b[43m(\u001b[49m\u001b[43mfilename\u001b[49m\u001b[43m,\u001b[49m\u001b[43m \u001b[49m\u001b[38;5;124;43m'\u001b[39;49m\u001b[38;5;124;43mrb\u001b[39;49m\u001b[38;5;124;43m'\u001b[39;49m\u001b[43m)\u001b[49m \u001b[38;5;28;01mas\u001b[39;00m f:\n\u001b[0;32m    651\u001b[0m         \u001b[38;5;28;01mwith\u001b[39;00m _read_fileobject(f, filename, mmap_mode) \u001b[38;5;28;01mas\u001b[39;00m fobj:\n\u001b[0;32m    652\u001b[0m             \u001b[38;5;28;01mif\u001b[39;00m \u001b[38;5;28misinstance\u001b[39m(fobj, \u001b[38;5;28mstr\u001b[39m):\n\u001b[0;32m    653\u001b[0m                 \u001b[38;5;66;03m# if the returned file object is a string, this means we\u001b[39;00m\n\u001b[0;32m    654\u001b[0m                 \u001b[38;5;66;03m# try to load a pickle file generated with an version of\u001b[39;00m\n\u001b[0;32m    655\u001b[0m                 \u001b[38;5;66;03m# Joblib so we load it with joblib compatibility function.\u001b[39;00m\n",
      "\u001b[1;31mFileNotFoundError\u001b[0m: [Errno 2] No such file or directory: 'model.pkl'"
     ]
    }
   ],
   "source": [
    "import tkinter as tk\n",
    "from tkinter import ttk\n",
    "import joblib\n",
    "import numpy as np\n",
    "import warnings\n",
    "warnings.filterwarnings('ignore')\n",
    "\n",
    "# Loading the trained model and other necessary files\n",
    "model = joblib.load('model.pkl')\n",
    "scaler = joblib.load('scaler_1.pkl')\n",
    "\n",
    "def predict_loan_approval():\n",
    "    # Get input values from the entry widgets\n",
    "    no_of_dependents = float(entry_no_of_dependents.get())\n",
    "    income_annum = float(entry_income_annum.get())\n",
    "    cibil_score = float(entry_cibil_score.get())\n",
    "    education_encoded = int(entry_education_encoded.get())\n",
    "    self_employed_encoded = int(entry_self_employed_encoded.get())\n",
    "    \n",
    "    # Preprocessing the input data\n",
    "    input_data = np.array([[no_of_dependents, income_annum, cibil_score, education_encoded, self_employed_encoded]])\n",
    "    input_data_scaled = scaler.transform(input_data)\n",
    "    \n",
    "    # Make predictions using the model\n",
    "    prediction = model.predict(input_data_scaled)\n",
    "    predicted_label = \"Approved\" if prediction[0] == 1 else \"Rejected\"\n",
    "    \n",
    "    # Display the prediction result\n",
    "    label_prediction.config(text=f'Prediction: {predicted_label}')\n",
    "\n",
    "# Create the main GUI window\n",
    "root = tk.Tk()\n",
    "root.title(\"Loan Approval Prediction\")\n",
    "root.configure(bg='skyblue')  \n",
    "\n",
    "# Create labels for user input\n",
    "label_no_of_dependents = ttk.Label(root, text=\"Number of Dependents:\", font=('Arial', 12, 'bold'), foreground='white', background='#3498db')\n",
    "label_income_annum = ttk.Label(root, text=\"Income Annually:\", font=('Arial', 12, 'bold'), foreground='white', background='#3498db')\n",
    "label_cibil_score = ttk.Label(root, text=\"CIBIL Score:\", font=('Arial', 12, 'bold'), foreground='white', background='#3498db')\n",
    "label_education_encoded = ttk.Label(root, text=\"Education Encoded:\", font=('Arial', 12, 'bold'), foreground='white', background='#3498db')\n",
    "label_self_employed_encoded = ttk.Label(root, text=\"Self Employed Encoded:\", font=('Arial', 12, 'bold'), foreground='white', background='#3498db')\n",
    "\n",
    "# Create entry widgets for user input\n",
    "entry_no_of_dependents = ttk.Entry(root, font=('Arial', 12))\n",
    "entry_income_annum = ttk.Entry(root, font=('Arial', 12))\n",
    "entry_cibil_score = ttk.Entry(root, font=('Arial', 12))\n",
    "entry_education_encoded = ttk.Entry(root, font=('Arial', 12))\n",
    "entry_self_employed_encoded = ttk.Entry(root, font=('Arial', 12))\n",
    "\n",
    "# Create a button to make predictions\n",
    "button_predict = ttk.Button(root, text=\"Predict\", command=predict_loan_approval, style='TButton')\n",
    "\n",
    "# Create a label to display the prediction result\n",
    "label_prediction = ttk.Label(root, text=\"Prediction:\", font=('Arial', 12, 'bold'), foreground='white', background='#3498db')\n",
    "\n",
    "# Layout the widgets using grid\n",
    "label_no_of_dependents.grid(row=0, column=0, padx=10, pady=5)\n",
    "entry_no_of_dependents.grid(row=0, column=1, padx=10, pady=5)\n",
    "label_income_annum.grid(row=1, column=0, padx=10, pady=5)\n",
    "entry_income_annum.grid(row=1, column=1, padx=10, pady=5)\n",
    "label_cibil_score.grid(row=2, column=0, padx=10, pady=5)\n",
    "entry_cibil_score.grid(row=2, column=1, padx=10, pady=5)\n",
    "label_education_encoded.grid(row=3, column=0, padx=10, pady=5)\n",
    "entry_education_encoded.grid(row=3, column=1, padx=10, pady=5)\n",
    "label_self_employed_encoded.grid(row=4, column=0, padx=10, pady=5)\n",
    "entry_self_employed_encoded.grid(row=4, column=1, padx=10, pady=5)\n",
    "button_predict.grid(row=5, column=0, columnspan=2, padx=10, pady=10)\n",
    "label_prediction.grid(row=6, column=0, columnspan=2, padx=10, pady=5)\n",
    "\n",
    "# Create a custom style for the button\n",
    "style = ttk.Style()\n",
    "style.configure('TButton', font=('Arial', 12, 'bold'), background='yellow', foreground='green')\n",
    "\n",
    "root.mainloop()"
   ]
  }
 ],
 "metadata": {
  "kernelspec": {
   "display_name": "FakeJobDetection",
   "language": "python",
   "name": "python3"
  },
  "language_info": {
   "codemirror_mode": {
    "name": "ipython",
    "version": 3
   },
   "file_extension": ".py",
   "mimetype": "text/x-python",
   "name": "python",
   "nbconvert_exporter": "python",
   "pygments_lexer": "ipython3",
   "version": "3.11.11"
  }
 },
 "nbformat": 4,
 "nbformat_minor": 5
}
